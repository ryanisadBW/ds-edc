{
 "cells": [
  {
   "cell_type": "code",
   "execution_count": 2,
   "metadata": {},
   "outputs": [],
   "source": [
    "from appium import webdriver\n",
    "from appium.options.android import UiAutomator2Options\n",
    "from appium.webdriver.common.appiumby import AppiumBy\n",
    "from appium.webdriver.common.touch_action import TouchAction\n",
    "from selenium.webdriver.common.action_chains import ActionChains, ActionBuilder\n",
    "from selenium.webdriver.common.actions.pointer_input import PointerInput\n",
    "from selenium.webdriver.common.actions import interaction\n",
    "\n",
    "from bs4 import BeautifulSoup as bs\n",
    "import re\n",
    "import numpy as np\n",
    "import pandas as pd\n",
    "import time\n",
    "from datetime import datetime\n",
    "\n",
    "swipe_delay = 1\n",
    "action_delay = 5\n",
    "launch_delay = 3\n",
    "\n",
    "# define swipe\n",
    "def swipe(driver, start, end):\n",
    "    actions = ActionChains(driver)\n",
    "    actions.w3c_actions = ActionBuilder(driver, mouse=PointerInput(interaction.POINTER_TOUCH, \"touch\"))\n",
    "    actions.w3c_actions.pointer_action.move_to_location(start[0], start[1])\n",
    "    actions.w3c_actions.pointer_action.pointer_down()\n",
    "    actions.w3c_actions.pointer_action.move_to_location(end[0], end[1])\n",
    "    actions.w3c_actions.pointer_action.release()\n",
    "    actions.perform()\n",
    "\n",
    "def click(driver, x, y):\n",
    "    actions = ActionChains(driver)\n",
    "    actions.w3c_actions = ActionBuilder(driver, mouse=PointerInput(interaction.POINTER_TOUCH, \"touch\"))\n",
    "    actions.w3c_actions.pointer_action.move_to_location(x, y)\n",
    "    actions.w3c_actions.pointer_action.pointer_down()\n",
    "    actions.w3c_actions.pointer_action.pause(0.1)\n",
    "    actions.w3c_actions.pointer_action.release()\n",
    "    actions.perform()\n",
    "\n",
    "def process_bukalapak(rows, category, brand):\n",
    "    return (\n",
    "        pd.DataFrame(rows)\n",
    "        .rename(columns={\n",
    "            0:'SKU', \n",
    "            1:'price',\n",
    "            2:'note',\n",
    "        })\n",
    "        .assign(\n",
    "            price = lambda x: x.price.str.replace('[Rp\\.]','', regex=True),\n",
    "            category = category,\n",
    "            brand = brand,\n",
    "        )\n",
    "    )"
   ]
  },
  {
   "cell_type": "code",
   "execution_count": 8,
   "metadata": {},
   "outputs": [],
   "source": [
    "# dont forget to run \"appium --allow-cors\" in terminal\n",
    "\n",
    "options = UiAutomator2Options()\n",
    "options.automationName = 'UiAutomator2'\n",
    "options.udid = 'emulator-5554'\n",
    "options.platformName = 'Android'\n",
    "options.platformVersion = '12'\n",
    "options.deviceName = 'bwphone'\n",
    "\n",
    "# setup the driver\n",
    "driver = webdriver.Remote('http://127.0.0.1:4723', options=options)"
   ]
  },
  {
   "cell_type": "code",
   "execution_count": 4,
   "metadata": {},
   "outputs": [],
   "source": [
    "# remove the warnings\n",
    "import warnings\n",
    "warnings.filterwarnings('once')"
   ]
  },
  {
   "cell_type": "code",
   "execution_count": 5,
   "metadata": {},
   "outputs": [
    {
     "name": "stderr",
     "output_type": "stream",
     "text": [
      "c:\\Users\\bukuw\\anaconda3\\envs\\workenv\\lib\\site-packages\\bs4\\builder\\__init__.py:545: XMLParsedAsHTMLWarning: It looks like you're parsing an XML document using an HTML parser. If this really is an HTML document (maybe it's XHTML?), you can ignore or filter this warning. If it's XML, you should know that using an XML parser will be more reliable. To parse this document as XML, make sure you have the lxml package installed, and pass the keyword argument `features=\"xml\"` into the BeautifulSoup constructor.\n",
      "  warnings.warn(\n"
     ]
    },
    {
     "ename": "KeyboardInterrupt",
     "evalue": "",
     "output_type": "error",
     "traceback": [
      "\u001b[1;31m---------------------------------------------------------------------------\u001b[0m",
      "\u001b[1;31mKeyboardInterrupt\u001b[0m                         Traceback (most recent call last)",
      "Cell \u001b[1;32mIn[5], line 41\u001b[0m\n\u001b[0;32m     37\u001b[0m sku_list\u001b[39m.\u001b[39mextend(new_rows[\u001b[39m0\u001b[39m])\n\u001b[0;32m     40\u001b[0m swipe(driver, (\u001b[39m500\u001b[39m, \u001b[39m1400\u001b[39m), (\u001b[39m500\u001b[39m, \u001b[39m800\u001b[39m))\n\u001b[1;32m---> 41\u001b[0m time\u001b[39m.\u001b[39;49msleep(swipe_delay)\n",
      "\u001b[1;31mKeyboardInterrupt\u001b[0m: "
     ]
    }
   ],
   "source": [
    "# keeps clicking back until reach home screen\n",
    "while driver.current_activity != '.NexusLauncherActivity':\n",
    "    driver.press_keycode(5)\n",
    "    time.sleep(action_delay)\n",
    "\n",
    "# open the bukalapak app then wait\n",
    "driver.activate_app('com.bukalapak.mitra')\n",
    "time.sleep(launch_delay)\n",
    "\n",
    "# click back\n",
    "driver.press_keycode(4)\n",
    "time.sleep(action_delay)\n",
    "\n",
    "# click the burger icon\n",
    "click(driver, 1000, 150)\n",
    "time.sleep(action_delay)\n",
    "# swipe up\n",
    "swipe(driver, (500, 1400), (500, 800))\n",
    "time.sleep(swipe_delay)\n",
    "# click \"Harga Jual Produk Virtual\"\n",
    "driver.find_element(by=AppiumBy.XPATH, value=\"/hierarchy/android.widget.FrameLayout/android.widget.LinearLayout/android.widget.FrameLayout/android.widget.LinearLayout/android.widget.FrameLayout/android.widget.LinearLayout/android.view.ViewGroup/android.widget.FrameLayout/android.widget.LinearLayout/androidx.recyclerview.widget.RecyclerView/android.widget.FrameLayout[9]/android.widget.LinearLayout\").click()\n",
    "time.sleep(action_delay)\n",
    "\n",
    "products = {1:\"Pulsa\", 2:\"Paket Data\", 3:\"Token Listrik\", 4:'Top Up Digital'}\n",
    "for prod in products:\n",
    "    # click the product then wait\n",
    "    driver.find_element(by=AppiumBy.XPATH, value=f\"/hierarchy/android.widget.FrameLayout/android.widget.LinearLayout/android.widget.FrameLayout/android.widget.LinearLayout/android.widget.FrameLayout/android.widget.LinearLayout/android.widget.FrameLayout/android.view.ViewGroup/android.widget.LinearLayout[2]/androidx.recyclerview.widget.RecyclerView/android.widget.FrameLayout[{prod}]/android.widget.LinearLayout/android.widget.LinearLayout/android.widget.LinearLayout/android.widget.TextView\").click()\n",
    "    time.sleep(action_delay)\n",
    "\n",
    "    rows = []\n",
    "    sku_list = []\n",
    "    while True:\n",
    "        source = driver.page_source\n",
    "        soup = bs(source, 'html')\n",
    "        new_rows = pd.concat([pd.Series(re.findall(r'text=\"(.+)\"', str(i.parent))) for i in list(soup.find_all(attrs={'text': re.compile(r'^Rp.+$')}))], axis=1).T\n",
    "        rows.append(new_rows)\n",
    "        sku_list.extend(new_rows[0])\n",
    "        if set(new_rows[0]).intersection(sku_list) == set(new_rows[0]):\n",
    "            break\n",
    "        swipe(driver, (500, 1400), (500, 800))\n",
    "        time.sleep(swipe_delay)\n",
    "        \n",
    "# -- PULSA\n",
    "# click the product then wait\n",
    "driver.find_element(by=AppiumBy.XPATH, value=\"/hierarchy/android.widget.FrameLayout/android.widget.LinearLayout/android.widget.FrameLayout/android.widget.LinearLayout/android.widget.FrameLayout/android.widget.LinearLayout/android.widget.FrameLayout/android.view.ViewGroup/android.widget.LinearLayout[2]/androidx.recyclerview.widget.RecyclerView/android.widget.FrameLayout[1]/android.widget.LinearLayout/android.widget.LinearLayout/android.widget.LinearLayout/android.widget.TextView\").click()\n",
    "time.sleep(action_delay)\n",
    "\n",
    "rows = []\n",
    "sku_list = []\n",
    "while True:\n",
    "    source = driver.page_source\n",
    "    soup = bs(source, 'html')\n",
    "    new_rows = pd.concat([pd.Series(re.findall(r'text=\"(.+)\"', str(i.parent))) for i in list(soup.find_all(attrs={'text': re.compile(r'^Rp.+$')}))], axis=1).T\n",
    "    rows.append(new_rows)\n",
    "    sku_list.extend(new_rows[0])\n",
    "    if set(new_rows[0]).intersection(sku_list) == set(new_rows[0]):\n",
    "        break\n",
    "    swipe(driver, (500, 1400), (500, 800))\n",
    "    time.sleep(swipe_delay)\n",
    "\n"
   ]
  },
  {
   "cell_type": "code",
   "execution_count": null,
   "metadata": {},
   "outputs": [],
   "source": []
  },
  {
   "cell_type": "code",
   "execution_count": 5,
   "metadata": {},
   "outputs": [
    {
     "name": "stdout",
     "output_type": "stream",
     "text": [
      "1\n",
      "2\n",
      "3\n",
      "4\n"
     ]
    }
   ],
   "source": [
    "products = {1:\"Pulsa\", 2:\"Paket Data\", 3:\"Token Listrik\", 4:'Top Up Digital'}\n",
    "for prod in products:\n",
    "    print(prod)"
   ]
  },
  {
   "cell_type": "code",
   "execution_count": 9,
   "metadata": {},
   "outputs": [
    {
     "name": "stderr",
     "output_type": "stream",
     "text": [
      "c:\\Users\\bukuw\\anaconda3\\envs\\workenv\\lib\\site-packages\\bs4\\builder\\__init__.py:545: XMLParsedAsHTMLWarning: It looks like you're parsing an XML document using an HTML parser. If this really is an HTML document (maybe it's XHTML?), you can ignore or filter this warning. If it's XML, you should know that using an XML parser will be more reliable. To parse this document as XML, make sure you have the lxml package installed, and pass the keyword argument `features=\"xml\"` into the BeautifulSoup constructor.\n",
      "  warnings.warn(\n"
     ]
    }
   ],
   "source": [
    "source = driver.page_source\n",
    "soup = bs(source, 'html')\n",
    "new_rows = pd.concat([pd.Series(re.findall(r'text=\"(.+)\"', str(i.parent))) for i in list(soup.find_all(attrs={'text': re.compile(r'^Rp.+$')}))], axis=1).T"
   ]
  },
  {
   "cell_type": "code",
   "execution_count": null,
   "metadata": {},
   "outputs": [],
   "source": []
  },
  {
   "cell_type": "code",
   "execution_count": 5,
   "metadata": {},
   "outputs": [
    {
     "ename": "NoSuchElementException",
     "evalue": "Message: An element could not be located on the page using the given search parameters.; For documentation on this error, please visit: https://www.selenium.dev/documentation/webdriver/troubleshooting/errors#no-such-element-exception\nStacktrace:\nNoSuchElementError: An element could not be located on the page using the given search parameters.\n    at AndroidUiautomator2Driver.findElOrEls (C:\\Users\\bukuw\\.appium\\node_modules\\appium-uiautomator2-driver\\node_modules\\appium-android-driver\\lib\\commands\\find.js:75:11)\n    at processTicksAndRejections (node:internal/process/task_queues:95:5)\n    at AndroidUiautomator2Driver.findElOrElsWithProcessing (C:\\Users\\bukuw\\AppData\\Roaming\\npm\\node_modules\\appium\\node_modules\\@appium\\base-driver\\lib\\basedriver\\commands\\find.ts:60:12)\n    at AndroidUiautomator2Driver.findElement (C:\\Users\\bukuw\\AppData\\Roaming\\npm\\node_modules\\appium\\node_modules\\@appium\\base-driver\\lib\\basedriver\\commands\\find.ts:75:12)",
     "output_type": "error",
     "traceback": [
      "\u001b[1;31m---------------------------------------------------------------------------\u001b[0m",
      "\u001b[1;31mNoSuchElementException\u001b[0m                    Traceback (most recent call last)",
      "Cell \u001b[1;32mIn[5], line 11\u001b[0m\n\u001b[0;32m      8\u001b[0m time\u001b[39m.\u001b[39msleep(launch_delay)\n\u001b[0;32m     10\u001b[0m \u001b[39m# dismiss login\u001b[39;00m\n\u001b[1;32m---> 11\u001b[0m driver\u001b[39m.\u001b[39;49mfind_element(by\u001b[39m=\u001b[39;49mAppiumBy\u001b[39m.\u001b[39;49mXPATH, value\u001b[39m=\u001b[39;49m\u001b[39m'\u001b[39;49m\u001b[39m//android.widget.TextView[@text=\u001b[39;49m\u001b[39m\"\u001b[39;49m\u001b[39mGabung sekarang!\u001b[39;49m\u001b[39m\"\u001b[39;49m\u001b[39m]\u001b[39;49m\u001b[39m'\u001b[39;49m)\u001b[39m.\u001b[39mclick()\n\u001b[0;32m     12\u001b[0m time\u001b[39m.\u001b[39msleep(action_delay)\n\u001b[0;32m     13\u001b[0m driver\u001b[39m.\u001b[39mfind_element(by\u001b[39m=\u001b[39mAppiumBy\u001b[39m.\u001b[39mXPATH, value\u001b[39m=\u001b[39m\u001b[39m'\u001b[39m\u001b[39m//android.widget.TextView[@text=\u001b[39m\u001b[39m\"\u001b[39m\u001b[39mLewati\u001b[39m\u001b[39m\"\u001b[39m\u001b[39m]\u001b[39m\u001b[39m'\u001b[39m)\u001b[39m.\u001b[39mclick()\n",
      "File \u001b[1;32mc:\\Users\\bukuw\\anaconda3\\envs\\workenv\\lib\\site-packages\\appium\\webdriver\\webdriver.py:409\u001b[0m, in \u001b[0;36mWebDriver.find_element\u001b[1;34m(self, by, value)\u001b[0m\n\u001b[0;32m    380\u001b[0m \u001b[39m\u001b[39m\u001b[39m\"\"\"\u001b[39;00m\n\u001b[0;32m    381\u001b[0m \u001b[39mFind an element given a AppiumBy strategy and locator\u001b[39;00m\n\u001b[0;32m    382\u001b[0m \n\u001b[1;32m   (...)\u001b[0m\n\u001b[0;32m    392\u001b[0m \n\u001b[0;32m    393\u001b[0m \u001b[39m\"\"\"\u001b[39;00m\n\u001b[0;32m    394\u001b[0m \u001b[39m# We prefer to patch locators in the client code\u001b[39;00m\n\u001b[0;32m    395\u001b[0m \u001b[39m# Checking current context every time a locator is accessed could significantly slow down tests\u001b[39;00m\n\u001b[0;32m    396\u001b[0m \u001b[39m# Check https://github.com/appium/python-client/pull/724 before submitting any issue\u001b[39;00m\n\u001b[1;32m   (...)\u001b[0m\n\u001b[0;32m    406\u001b[0m \u001b[39m#     by = By.CSS_SELECTOR\u001b[39;00m\n\u001b[0;32m    407\u001b[0m \u001b[39m#     value = '[name=\"%s\"]' % value\u001b[39;00m\n\u001b[1;32m--> 409\u001b[0m \u001b[39mreturn\u001b[39;00m \u001b[39mself\u001b[39;49m\u001b[39m.\u001b[39;49mexecute(RemoteCommand\u001b[39m.\u001b[39;49mFIND_ELEMENT, {\u001b[39m'\u001b[39;49m\u001b[39musing\u001b[39;49m\u001b[39m'\u001b[39;49m: by, \u001b[39m'\u001b[39;49m\u001b[39mvalue\u001b[39;49m\u001b[39m'\u001b[39;49m: value})[\u001b[39m'\u001b[39m\u001b[39mvalue\u001b[39m\u001b[39m'\u001b[39m]\n",
      "File \u001b[1;32mc:\\Users\\bukuw\\anaconda3\\envs\\workenv\\lib\\site-packages\\selenium\\webdriver\\remote\\webdriver.py:346\u001b[0m, in \u001b[0;36mWebDriver.execute\u001b[1;34m(self, driver_command, params)\u001b[0m\n\u001b[0;32m    344\u001b[0m response \u001b[39m=\u001b[39m \u001b[39mself\u001b[39m\u001b[39m.\u001b[39mcommand_executor\u001b[39m.\u001b[39mexecute(driver_command, params)\n\u001b[0;32m    345\u001b[0m \u001b[39mif\u001b[39;00m response:\n\u001b[1;32m--> 346\u001b[0m     \u001b[39mself\u001b[39;49m\u001b[39m.\u001b[39;49merror_handler\u001b[39m.\u001b[39;49mcheck_response(response)\n\u001b[0;32m    347\u001b[0m     response[\u001b[39m\"\u001b[39m\u001b[39mvalue\u001b[39m\u001b[39m\"\u001b[39m] \u001b[39m=\u001b[39m \u001b[39mself\u001b[39m\u001b[39m.\u001b[39m_unwrap_value(response\u001b[39m.\u001b[39mget(\u001b[39m\"\u001b[39m\u001b[39mvalue\u001b[39m\u001b[39m\"\u001b[39m, \u001b[39mNone\u001b[39;00m))\n\u001b[0;32m    348\u001b[0m     \u001b[39mreturn\u001b[39;00m response\n",
      "File \u001b[1;32mc:\\Users\\bukuw\\anaconda3\\envs\\workenv\\lib\\site-packages\\appium\\webdriver\\errorhandler.py:122\u001b[0m, in \u001b[0;36mMobileErrorHandler.check_response\u001b[1;34m(self, response)\u001b[0m\n\u001b[0;32m    116\u001b[0m \u001b[39mif\u001b[39;00m exception_class \u001b[39mis\u001b[39;00m sel_exceptions\u001b[39m.\u001b[39mUnexpectedAlertPresentException:\n\u001b[0;32m    117\u001b[0m     \u001b[39mraise\u001b[39;00m sel_exceptions\u001b[39m.\u001b[39mUnexpectedAlertPresentException(\n\u001b[0;32m    118\u001b[0m         msg\u001b[39m=\u001b[39mmessage,\n\u001b[0;32m    119\u001b[0m         stacktrace\u001b[39m=\u001b[39mformat_stacktrace(stacktrace),\n\u001b[0;32m    120\u001b[0m         alert_text\u001b[39m=\u001b[39mvalue\u001b[39m.\u001b[39mget(\u001b[39m'\u001b[39m\u001b[39mdata\u001b[39m\u001b[39m'\u001b[39m),\n\u001b[0;32m    121\u001b[0m     )\n\u001b[1;32m--> 122\u001b[0m \u001b[39mraise\u001b[39;00m exception_class(msg\u001b[39m=\u001b[39mmessage, stacktrace\u001b[39m=\u001b[39mformat_stacktrace(stacktrace))\n",
      "\u001b[1;31mNoSuchElementException\u001b[0m: Message: An element could not be located on the page using the given search parameters.; For documentation on this error, please visit: https://www.selenium.dev/documentation/webdriver/troubleshooting/errors#no-such-element-exception\nStacktrace:\nNoSuchElementError: An element could not be located on the page using the given search parameters.\n    at AndroidUiautomator2Driver.findElOrEls (C:\\Users\\bukuw\\.appium\\node_modules\\appium-uiautomator2-driver\\node_modules\\appium-android-driver\\lib\\commands\\find.js:75:11)\n    at processTicksAndRejections (node:internal/process/task_queues:95:5)\n    at AndroidUiautomator2Driver.findElOrElsWithProcessing (C:\\Users\\bukuw\\AppData\\Roaming\\npm\\node_modules\\appium\\node_modules\\@appium\\base-driver\\lib\\basedriver\\commands\\find.ts:60:12)\n    at AndroidUiautomator2Driver.findElement (C:\\Users\\bukuw\\AppData\\Roaming\\npm\\node_modules\\appium\\node_modules\\@appium\\base-driver\\lib\\basedriver\\commands\\find.ts:75:12)"
     ]
    }
   ],
   "source": [
    "### OLD CODE - REPLACED IN SEPT 14, 2023\n",
    "# # keeps clicking back until reach home screen\n",
    "# while driver.current_activity != '.NexusLauncherActivity':\n",
    "#     driver.press_keycode(4)\n",
    "#     time.sleep(action_delay)\n",
    "\n",
    "# # open the bukalapak app then wait\n",
    "# driver.activate_app('com.bukalapak.mitra')\n",
    "# time.sleep(launch_delay)\n",
    "\n",
    "# # dismiss login\n",
    "# driver.find_element(by=AppiumBy.XPATH, value='//android.widget.TextView[@text=\"Gabung sekarang!\"]').click()\n",
    "# time.sleep(action_delay)\n",
    "# driver.find_element(by=AppiumBy.XPATH, value='//android.widget.TextView[@text=\"Lewati\"]').click()\n",
    "# time.sleep(action_delay)\n",
    "\n",
    "# # press pulsa -> access to pulsa, paket, token listrik\n",
    "# driver.find_element(by=AppiumBy.XPATH, value='//android.widget.TextView[@text=\"Pulsa\"]').click()\n",
    "# time.sleep(action_delay)\n",
    "\n",
    "# results = []\n",
    "# for category in ['Pulsa', 'Paket Data']:\n",
    "#     driver.find_element(by=AppiumBy.XPATH, value=f'//android.widget.TextView[@text=\"{category}\"]').click()    \n",
    "\n",
    "#     brands = [i.text for i in driver.find_elements(by=AppiumBy.XPATH, value='//android.widget.LinearLayout/android.widget.TextView')]\n",
    "#     for brand in brands:\n",
    "#         print(f'scrap {brand}')\n",
    "#         driver.find_element(by=AppiumBy.XPATH, value=f'//android.widget.LinearLayout/android.widget.TextView[@text=\"{brand}\"]').click()\n",
    "\n",
    "#         rows = []\n",
    "#         while True:\n",
    "#             source = driver.page_source\n",
    "#             soup = bs(source, 'html.parser')\n",
    "#             new_rows = [tuple(re.findall(r'text=\"(.+)\"', str(i.parent))) for i in list(soup.find_all(attrs={'text': re.compile(r'^Rp.+$')}))]\n",
    "#             if set(new_rows).intersection(rows) == set(new_rows):\n",
    "#                 break\n",
    "#             swipe(driver, (500, 1400), (500, 800))\n",
    "#             time.sleep(swipe_down_delay)\n",
    "#             rows.extend(new_rows)\n",
    "#         results.append(process_bukalapak(rows, category, brand))\n",
    "\n",
    "#         while True:\n",
    "#             try:\n",
    "#                 el = driver.find_element(by=AppiumBy.XPATH, value=f'//android.widget.LinearLayout/android.widget.TextView[@text=\"{brand}\"]')\n",
    "#                 time.sleep(action_delay)\n",
    "#                 el.click()\n",
    "#                 break\n",
    "#             except:\n",
    "#                 swipe(driver, (500, 800), (500, 1400))\n",
    "#                 time.sleep(swipe_up_delay)\n",
    "\n",
    "# driver.find_element(by=AppiumBy.XPATH, value=f'//android.widget.TextView[@text=\"Token Listrik\"]').click()\n",
    "# time.sleep(action_delay)\n",
    "# rows = []\n",
    "# while True:\n",
    "#     source = driver.page_source\n",
    "#     soup = bs(source, 'html.parser')\n",
    "#     new_rows = [tuple(re.findall(r'text=\"(.+)\"', str(i.parent))) for i in list(soup.find_all(attrs={'text': re.compile(r'^Rp.+$')}))]\n",
    "#     if set(new_rows).intersection(rows) == set(new_rows):\n",
    "#         break\n",
    "#     swipe(driver, (500, 1400), (500, 800))\n",
    "#     time.sleep(swipe_down_delay)\n",
    "#     rows.extend(new_rows)\n",
    "# results.append(process_bukalapak(rows, category='Token Listrik', brand=None))\n",
    "\n",
    "# results_df = (\n",
    "#     pd.concat(results)\n",
    "#     .drop_duplicates()\n",
    "#     .assign(\n",
    "#         platform = 'mitra bukalapak',\n",
    "#     )\n",
    "# )"
   ]
  },
  {
   "cell_type": "code",
   "execution_count": 5,
   "metadata": {},
   "outputs": [],
   "source": [
    "from datetime import date\n",
    "today = date.today().strftime(\"%Y_%m_%d\")\n",
    "results_df.to_csv(f'result/bukalapak_scrape_{today}.csv')"
   ]
  }
 ],
 "metadata": {
  "kernelspec": {
   "display_name": "workenv",
   "language": "python",
   "name": "python3"
  },
  "language_info": {
   "codemirror_mode": {
    "name": "ipython",
    "version": 3
   },
   "file_extension": ".py",
   "mimetype": "text/x-python",
   "name": "python",
   "nbconvert_exporter": "python",
   "pygments_lexer": "ipython3",
   "version": "3.9.6"
  },
  "orig_nbformat": 4
 },
 "nbformat": 4,
 "nbformat_minor": 2
}
