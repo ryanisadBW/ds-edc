{
 "cells": [
  {
   "cell_type": "code",
   "execution_count": 1,
   "metadata": {},
   "outputs": [],
   "source": [
    "# !pip install pycaret --use-deprecated=legacy-resolver\n",
    "# !pip install shap --use-deprecated=legacy-resolver\n",
    "# !pip install pycaret[analysis] --use-deprecated=legacy-resolver"
   ]
  },
  {
   "cell_type": "code",
   "execution_count": 2,
   "metadata": {},
   "outputs": [],
   "source": [
    "import os\n",
    "import pandas as pd\n",
    "import numpy as np\n",
    "import pickle \n",
    "import json\n",
    "from pycaret.classification import *\n",
    "# from pycaret.regression import *\n",
    "from pycaret.datasets import get_data\n",
    "\n",
    "# pd.set_option(\"display.max_rows\", None)\n"
   ]
  },
  {
   "cell_type": "code",
   "execution_count": 3,
   "metadata": {},
   "outputs": [
    {
     "data": {
      "text/plain": [
       "'c:\\\\Users\\\\bukuw\\\\work\\\\automl_edc'"
      ]
     },
     "execution_count": 3,
     "metadata": {},
     "output_type": "execute_result"
    }
   ],
   "source": [
    "# CHANGE THE DIRECTORY TO STORE THE CURRENT VERSION\n",
    "\n",
    "os.getcwd()\n",
    "# os.chdir('model5/')"
   ]
  },
  {
   "attachments": {},
   "cell_type": "markdown",
   "metadata": {},
   "source": [
    "# Remove all existing output files first"
   ]
  },
  {
   "cell_type": "code",
   "execution_count": 4,
   "metadata": {},
   "outputs": [],
   "source": [
    "def try_remove(f):\n",
    "    try:\n",
    "        os.remove(f)\n",
    "    except:\n",
    "        pass\n",
    "[try_remove(i) for i in os.listdir() if 'png' in i]\n",
    "try_remove('model.pkl')\n",
    "try_remove('model_performance.csv')\n"
   ]
  },
  {
   "attachments": {},
   "cell_type": "markdown",
   "metadata": {},
   "source": [
    "# Data Cleaning"
   ]
  },
  {
   "cell_type": "code",
   "execution_count": 5,
   "metadata": {},
   "outputs": [],
   "source": [
    "import gspread\n",
    "from pydata_google_auth import get_user_credentials\n",
    "from google.cloud import bigquery\n",
    "import re\n",
    "\n",
    "project_id = 'ledger-fcc1e'\n",
    "creds = get_user_credentials([\n",
    "    'https://www.googleapis.com/auth/cloud-platform', \n",
    "    'https://www.googleapis.com/auth/spreadsheets',\n",
    "    'https://www.googleapis.com/auth/drive',\n",
    "])\n",
    "client = bigquery.Client(project=project_id, credentials=creds)\n",
    "\n",
    "gc = gspread.authorize(creds) \n",
    "pull_data = lambda query: client.query(query).result().to_dataframe()\n",
    "get_worksheet = lambda key, name: gc.open_by_key(key).worksheet(name)\n",
    "\n"
   ]
  },
  {
   "cell_type": "markdown",
   "metadata": {},
   "source": [
    "# Load Data"
   ]
  },
  {
   "cell_type": "code",
   "execution_count": 6,
   "metadata": {},
   "outputs": [],
   "source": [
    "main = pd.read_pickle('data/cleaned_data.pkl')"
   ]
  },
  {
   "cell_type": "code",
   "execution_count": 7,
   "metadata": {},
   "outputs": [
    {
     "name": "stdout",
     "output_type": "stream",
     "text": [
      "<class 'pandas.core.frame.DataFrame'>\n",
      "RangeIndex: 8055 entries, 0 to 8054\n",
      "Data columns (total 86 columns):\n",
      " #   Column                     Non-Null Count  Dtype  \n",
      "---  ------                     --------------  -----  \n",
      " 0   phone_number_clean         8055 non-null   object \n",
      " 1   interested_to_EDC_flag     8055 non-null   bool   \n",
      " 2   age_on_core_days           8055 non-null   Int64  \n",
      " 3   age_on_ncore_days          8055 non-null   Int64  \n",
      " 4   age_on_accounting_days     7174 non-null   Int64  \n",
      " 5   est_daily_customer         8055 non-null   float64\n",
      " 6   count_trf                  8055 non-null   float64\n",
      " 7   core_before_shutdown_flag  8055 non-null   bool   \n",
      " 8   ppob_before_shutdown_flag  8055 non-null   bool   \n",
      " 9   m0_transaxi_cnt            8055 non-null   Float64\n",
      " 10  m0_Utang_cnt               8055 non-null   Float64\n",
      " 11  lm_transaxi_cnt            8055 non-null   Float64\n",
      " 12  lm_Utang_cnt               8055 non-null   Float64\n",
      " 13  m2_transaxi_cnt            8055 non-null   Float64\n",
      " 14  m2_Utang_cnt               8055 non-null   Float64\n",
      " 15  m3_transaxi_cnt            8055 non-null   Float64\n",
      " 16  m3_Utang_cnt               8055 non-null   Float64\n",
      " 17  LM0_core_count             8055 non-null   Float64\n",
      " 18  LM0_ppob_count             8055 non-null   Float64\n",
      " 19  LM0_qris_count             8055 non-null   Float64\n",
      " 20  LM0_core_tpv               8055 non-null   float64\n",
      " 21  LM0_ppob_tpv               8055 non-null   float64\n",
      " 22  LM0_qris_tpv               8055 non-null   float64\n",
      " 23  LM1_core_count             8055 non-null   Float64\n",
      " 24  LM1_ppob_count             8055 non-null   Float64\n",
      " 25  LM1_qris_count             8055 non-null   Float64\n",
      " 26  LM1_core_tpv               8055 non-null   float64\n",
      " 27  LM1_ppob_tpv               8055 non-null   float64\n",
      " 28  LM1_qris_tpv               8055 non-null   float64\n",
      " 29  LM2_core_count             8055 non-null   Float64\n",
      " 30  LM2_ppob_count             8055 non-null   Float64\n",
      " 31  LM2_qris_count             8055 non-null   Float64\n",
      " 32  LM2_core_tpv               8055 non-null   float64\n",
      " 33  LM2_ppob_tpv               8055 non-null   float64\n",
      " 34  LM2_qris_tpv               8055 non-null   float64\n",
      " 35  LM3_core_count             8055 non-null   Float64\n",
      " 36  LM3_ppob_count             8055 non-null   Float64\n",
      " 37  LM3_qris_count             8055 non-null   Float64\n",
      " 38  LM3_core_tpv               8055 non-null   float64\n",
      " 39  LM3_ppob_tpv               8055 non-null   float64\n",
      " 40  LM3_qris_tpv               8055 non-null   float64\n",
      " 41  is_core_q1                 8055 non-null   bool   \n",
      " 42  is_core_q2                 8055 non-null   bool   \n",
      " 43  is_core_q3                 8055 non-null   bool   \n",
      " 44  is_ppob_q1                 8055 non-null   bool   \n",
      " 45  is_ppob_q2                 8055 non-null   bool   \n",
      " 46  is_ppob_q3                 8055 non-null   bool   \n",
      " 47  is_qris_q1                 8055 non-null   bool   \n",
      " 48  is_qris_q2                 8055 non-null   bool   \n",
      " 49  is_qris_q3                 8055 non-null   bool   \n",
      " 50  edc_type_BCA               8055 non-null   bool   \n",
      " 51  edc_type_BNII              8055 non-null   bool   \n",
      " 52  edc_type_BRI               8055 non-null   bool   \n",
      " 53  edc_type_BSI               8055 non-null   bool   \n",
      " 54  edc_type_Mandiri           8055 non-null   bool   \n",
      " 55  edc_type_Others            8055 non-null   bool   \n",
      " 56  ms_BALI NUSRA              8055 non-null   bool   \n",
      " 57  ms_JAKARTA                 8055 non-null   bool   \n",
      " 58  ms_JAVA 1                  8055 non-null   bool   \n",
      " 59  ms_JAVA 2                  8055 non-null   bool   \n",
      " 60  ms_JAVA 3                  8055 non-null   bool   \n",
      " 61  ms_KALIMANTAN              8055 non-null   bool   \n",
      " 62  ms_SULAWESI                8055 non-null   bool   \n",
      " 63  ms_SUMATERA 1              8055 non-null   bool   \n",
      " 64  ms_SUMATERA 2              8055 non-null   bool   \n",
      " 65  ms_SUMATERA 3              8055 non-null   bool   \n",
      " 66  acq_Offline                8055 non-null   bool   \n",
      " 67  acq_Organic                8055 non-null   bool   \n",
      " 68  acq_Paid                   8055 non-null   bool   \n",
      " 69  acq_Referral               8055 non-null   bool   \n",
      " 70  kyc_ADVANCED               8055 non-null   bool   \n",
      " 71  kyc_SUPREME                8055 non-null   bool   \n",
      " 72  lyl_Bronze                 8055 non-null   bool   \n",
      " 73  lyl_Diamond                8055 non-null   bool   \n",
      " 74  lyl_Gold                   8055 non-null   bool   \n",
      " 75  lyl_Platinum               8055 non-null   bool   \n",
      " 76  lyl_Silver                 8055 non-null   bool   \n",
      " 77  edc_count_0                8055 non-null   bool   \n",
      " 78  edc_count_1                8055 non-null   bool   \n",
      " 79  edc_count_2to3             8055 non-null   bool   \n",
      " 80  edc_count_3to6             8055 non-null   bool   \n",
      " 81  edc_count_>10              8055 non-null   bool   \n",
      " 82  bizage_0to1                8055 non-null   bool   \n",
      " 83  bizage_1to3                8055 non-null   bool   \n",
      " 84  bizage_3to5                8055 non-null   bool   \n",
      " 85  bizage_5+                  8055 non-null   bool   \n",
      "dtypes: Float64(20), Int64(3), bool(48), float64(14), object(1)\n",
      "memory usage: 2.9+ MB\n"
     ]
    }
   ],
   "source": [
    "main.info(verbose=True)"
   ]
  },
  {
   "cell_type": "code",
   "execution_count": 8,
   "metadata": {},
   "outputs": [],
   "source": [
    "from sklearn.model_selection import train_test_split\n",
    "\n",
    "train, test = train_test_split(main, test_size=0.2, random_state=123)\n",
    "\n",
    "train.to_csv('data/train.csv', index=False)\n",
    "test.to_csv('data/test.csv', index=False)"
   ]
  },
  {
   "cell_type": "code",
   "execution_count": 9,
   "metadata": {},
   "outputs": [
    {
     "data": {
      "text/plain": [
       "0.1207324643078833"
      ]
     },
     "execution_count": 9,
     "metadata": {},
     "output_type": "execute_result"
    }
   ],
   "source": [
    "train['interested_to_EDC_flag'].mean()"
   ]
  },
  {
   "cell_type": "code",
   "execution_count": 10,
   "metadata": {},
   "outputs": [
    {
     "data": {
      "text/plain": [
       "0.122284295468653"
      ]
     },
     "execution_count": 10,
     "metadata": {},
     "output_type": "execute_result"
    }
   ],
   "source": [
    "test['interested_to_EDC_flag'].mean()"
   ]
  },
  {
   "attachments": {},
   "cell_type": "markdown",
   "metadata": {},
   "source": [
    "# Load Parameters"
   ]
  },
  {
   "cell_type": "code",
   "execution_count": 11,
   "metadata": {},
   "outputs": [],
   "source": [
    "with open('params/params.json', 'r') as f:\n",
    "    params = json.load(f)\n",
    "\n",
    "# included_models = ['lightgbm', 'rf', 'catboost', 'et', 'xgboost', 'dt'] if params['require_explanation'] else \\\n",
    "#   ['lr', 'knn', 'nb', 'dt', 'svm', 'rbfsvm', 'gpc', 'mlp', 'ridge', 'rf', 'qda', 'ada', 'gbc', 'lda', 'et', 'xgboost', 'lightgbm', 'catboost', 'dummy']\n",
    "\n",
    "included_models = ['rf'] if params['require_explanation'] else \\\n",
    "  ['lr', 'knn', 'nb', 'dt', 'svm', 'rbfsvm', 'gpc', 'mlp', 'ridge', 'rf', 'qda', 'ada', 'gbc', 'lda', 'et', 'xgboost', 'lightgbm', 'catboost', 'dummy']\n",
    "\n",
    "\n",
    "target_metric = params['target_metric']\n",
    "do_hyperparameter_search = params['hyperparameter_search']\n",
    "plots = params['plots']\n",
    "\n",
    "params = (\n",
    "    pd.Series(params)\n",
    "    .to_frame().T\n",
    "    .assign(\n",
    "        numeric_features = lambda x: x.numeric_features.astype(str).replace('[]',None),\n",
    "        categorical_features = lambda x: x.categorical_features.astype(str).replace('[]',None),\n",
    "        ignore_features = lambda x: x.ignore_features.astype(str).replace('[]',None),\n",
    "    )\n",
    "    .drop(columns=['require_explanation', 'target_metric', 'hyperparameter_search', 'plots'])\n",
    "    .T[0].to_dict()\n",
    ")"
   ]
  },
  {
   "cell_type": "code",
   "execution_count": 12,
   "metadata": {},
   "outputs": [
    {
     "data": {
      "text/plain": [
       "{'target': 'interested_to_EDC_flag',\n",
       " 'train_size': 0.8,\n",
       " 'numeric_features': None,\n",
       " 'categorical_features': None,\n",
       " 'ignore_features': 'phone_number_clean',\n",
       " 'imputation_type': 'simple',\n",
       " 'numeric_imputation': 'knn',\n",
       " 'categorical_imputation': 'mode',\n",
       " 'iterative_imputation_iters': 5,\n",
       " 'numeric_iterative_imputer': 'lightgbm',\n",
       " 'categorical_iterative_imputer': 'lightgbm',\n",
       " 'remove_multicollinearity': False,\n",
       " 'multicollinearity_threshold': 0.9,\n",
       " 'remove_outliers': False,\n",
       " 'fix_imbalance': True,\n",
       " 'transformation': True,\n",
       " 'normalize': True,\n",
       " 'data_split_shuffle': False,\n",
       " 'data_split_stratify': False,\n",
       " 'fold_strategy': 'stratifiedkfold',\n",
       " 'fold': 5,\n",
       " 'fold_shuffle': True,\n",
       " 'session_id': 123}"
      ]
     },
     "execution_count": 12,
     "metadata": {},
     "output_type": "execute_result"
    }
   ],
   "source": [
    "params"
   ]
  },
  {
   "attachments": {},
   "cell_type": "markdown",
   "metadata": {},
   "source": [
    "# Model training"
   ]
  },
  {
   "cell_type": "code",
   "execution_count": 13,
   "metadata": {},
   "outputs": [
    {
     "data": {
      "text/html": [
       "<style type=\"text/css\">\n",
       "#T_51349_row10_col1, #T_51349_row14_col1, #T_51349_row16_col1, #T_51349_row18_col1 {\n",
       "  background-color: lightgreen;\n",
       "}\n",
       "</style>\n",
       "<table id=\"T_51349\">\n",
       "  <thead>\n",
       "    <tr>\n",
       "      <th class=\"blank level0\" >&nbsp;</th>\n",
       "      <th id=\"T_51349_level0_col0\" class=\"col_heading level0 col0\" >Description</th>\n",
       "      <th id=\"T_51349_level0_col1\" class=\"col_heading level0 col1\" >Value</th>\n",
       "    </tr>\n",
       "  </thead>\n",
       "  <tbody>\n",
       "    <tr>\n",
       "      <th id=\"T_51349_level0_row0\" class=\"row_heading level0 row0\" >0</th>\n",
       "      <td id=\"T_51349_row0_col0\" class=\"data row0 col0\" >Session id</td>\n",
       "      <td id=\"T_51349_row0_col1\" class=\"data row0 col1\" >123</td>\n",
       "    </tr>\n",
       "    <tr>\n",
       "      <th id=\"T_51349_level0_row1\" class=\"row_heading level0 row1\" >1</th>\n",
       "      <td id=\"T_51349_row1_col0\" class=\"data row1 col0\" >Target</td>\n",
       "      <td id=\"T_51349_row1_col1\" class=\"data row1 col1\" >interested_to_EDC_flag</td>\n",
       "    </tr>\n",
       "    <tr>\n",
       "      <th id=\"T_51349_level0_row2\" class=\"row_heading level0 row2\" >2</th>\n",
       "      <td id=\"T_51349_row2_col0\" class=\"data row2 col0\" >Target type</td>\n",
       "      <td id=\"T_51349_row2_col1\" class=\"data row2 col1\" >Binary</td>\n",
       "    </tr>\n",
       "    <tr>\n",
       "      <th id=\"T_51349_level0_row3\" class=\"row_heading level0 row3\" >3</th>\n",
       "      <td id=\"T_51349_row3_col0\" class=\"data row3 col0\" >Original data shape</td>\n",
       "      <td id=\"T_51349_row3_col1\" class=\"data row3 col1\" >(6444, 86)</td>\n",
       "    </tr>\n",
       "    <tr>\n",
       "      <th id=\"T_51349_level0_row4\" class=\"row_heading level0 row4\" >4</th>\n",
       "      <td id=\"T_51349_row4_col0\" class=\"data row4 col0\" >Transformed data shape</td>\n",
       "      <td id=\"T_51349_row4_col1\" class=\"data row4 col1\" >(10363, 85)</td>\n",
       "    </tr>\n",
       "    <tr>\n",
       "      <th id=\"T_51349_level0_row5\" class=\"row_heading level0 row5\" >5</th>\n",
       "      <td id=\"T_51349_row5_col0\" class=\"data row5 col0\" >Transformed train set shape</td>\n",
       "      <td id=\"T_51349_row5_col1\" class=\"data row5 col1\" >(9074, 85)</td>\n",
       "    </tr>\n",
       "    <tr>\n",
       "      <th id=\"T_51349_level0_row6\" class=\"row_heading level0 row6\" >6</th>\n",
       "      <td id=\"T_51349_row6_col0\" class=\"data row6 col0\" >Transformed test set shape</td>\n",
       "      <td id=\"T_51349_row6_col1\" class=\"data row6 col1\" >(1289, 85)</td>\n",
       "    </tr>\n",
       "    <tr>\n",
       "      <th id=\"T_51349_level0_row7\" class=\"row_heading level0 row7\" >7</th>\n",
       "      <td id=\"T_51349_row7_col0\" class=\"data row7 col0\" >Ignore features</td>\n",
       "      <td id=\"T_51349_row7_col1\" class=\"data row7 col1\" >18</td>\n",
       "    </tr>\n",
       "    <tr>\n",
       "      <th id=\"T_51349_level0_row8\" class=\"row_heading level0 row8\" >8</th>\n",
       "      <td id=\"T_51349_row8_col0\" class=\"data row8 col0\" >Numeric features</td>\n",
       "      <td id=\"T_51349_row8_col1\" class=\"data row8 col1\" >37</td>\n",
       "    </tr>\n",
       "    <tr>\n",
       "      <th id=\"T_51349_level0_row9\" class=\"row_heading level0 row9\" >9</th>\n",
       "      <td id=\"T_51349_row9_col0\" class=\"data row9 col0\" >Rows with missing values</td>\n",
       "      <td id=\"T_51349_row9_col1\" class=\"data row9 col1\" >11.3%</td>\n",
       "    </tr>\n",
       "    <tr>\n",
       "      <th id=\"T_51349_level0_row10\" class=\"row_heading level0 row10\" >10</th>\n",
       "      <td id=\"T_51349_row10_col0\" class=\"data row10 col0\" >Preprocess</td>\n",
       "      <td id=\"T_51349_row10_col1\" class=\"data row10 col1\" >True</td>\n",
       "    </tr>\n",
       "    <tr>\n",
       "      <th id=\"T_51349_level0_row11\" class=\"row_heading level0 row11\" >11</th>\n",
       "      <td id=\"T_51349_row11_col0\" class=\"data row11 col0\" >Imputation type</td>\n",
       "      <td id=\"T_51349_row11_col1\" class=\"data row11 col1\" >simple</td>\n",
       "    </tr>\n",
       "    <tr>\n",
       "      <th id=\"T_51349_level0_row12\" class=\"row_heading level0 row12\" >12</th>\n",
       "      <td id=\"T_51349_row12_col0\" class=\"data row12 col0\" >Numeric imputation</td>\n",
       "      <td id=\"T_51349_row12_col1\" class=\"data row12 col1\" >knn</td>\n",
       "    </tr>\n",
       "    <tr>\n",
       "      <th id=\"T_51349_level0_row13\" class=\"row_heading level0 row13\" >13</th>\n",
       "      <td id=\"T_51349_row13_col0\" class=\"data row13 col0\" >Categorical imputation</td>\n",
       "      <td id=\"T_51349_row13_col1\" class=\"data row13 col1\" >mode</td>\n",
       "    </tr>\n",
       "    <tr>\n",
       "      <th id=\"T_51349_level0_row14\" class=\"row_heading level0 row14\" >14</th>\n",
       "      <td id=\"T_51349_row14_col0\" class=\"data row14 col0\" >Fix imbalance</td>\n",
       "      <td id=\"T_51349_row14_col1\" class=\"data row14 col1\" >True</td>\n",
       "    </tr>\n",
       "    <tr>\n",
       "      <th id=\"T_51349_level0_row15\" class=\"row_heading level0 row15\" >15</th>\n",
       "      <td id=\"T_51349_row15_col0\" class=\"data row15 col0\" >Fix imbalance method</td>\n",
       "      <td id=\"T_51349_row15_col1\" class=\"data row15 col1\" >SMOTE</td>\n",
       "    </tr>\n",
       "    <tr>\n",
       "      <th id=\"T_51349_level0_row16\" class=\"row_heading level0 row16\" >16</th>\n",
       "      <td id=\"T_51349_row16_col0\" class=\"data row16 col0\" >Transformation</td>\n",
       "      <td id=\"T_51349_row16_col1\" class=\"data row16 col1\" >True</td>\n",
       "    </tr>\n",
       "    <tr>\n",
       "      <th id=\"T_51349_level0_row17\" class=\"row_heading level0 row17\" >17</th>\n",
       "      <td id=\"T_51349_row17_col0\" class=\"data row17 col0\" >Transformation method</td>\n",
       "      <td id=\"T_51349_row17_col1\" class=\"data row17 col1\" >yeo-johnson</td>\n",
       "    </tr>\n",
       "    <tr>\n",
       "      <th id=\"T_51349_level0_row18\" class=\"row_heading level0 row18\" >18</th>\n",
       "      <td id=\"T_51349_row18_col0\" class=\"data row18 col0\" >Normalize</td>\n",
       "      <td id=\"T_51349_row18_col1\" class=\"data row18 col1\" >True</td>\n",
       "    </tr>\n",
       "    <tr>\n",
       "      <th id=\"T_51349_level0_row19\" class=\"row_heading level0 row19\" >19</th>\n",
       "      <td id=\"T_51349_row19_col0\" class=\"data row19 col0\" >Normalize method</td>\n",
       "      <td id=\"T_51349_row19_col1\" class=\"data row19 col1\" >zscore</td>\n",
       "    </tr>\n",
       "    <tr>\n",
       "      <th id=\"T_51349_level0_row20\" class=\"row_heading level0 row20\" >20</th>\n",
       "      <td id=\"T_51349_row20_col0\" class=\"data row20 col0\" >Fold Generator</td>\n",
       "      <td id=\"T_51349_row20_col1\" class=\"data row20 col1\" >StratifiedKFold</td>\n",
       "    </tr>\n",
       "    <tr>\n",
       "      <th id=\"T_51349_level0_row21\" class=\"row_heading level0 row21\" >21</th>\n",
       "      <td id=\"T_51349_row21_col0\" class=\"data row21 col0\" >Fold Number</td>\n",
       "      <td id=\"T_51349_row21_col1\" class=\"data row21 col1\" >5</td>\n",
       "    </tr>\n",
       "    <tr>\n",
       "      <th id=\"T_51349_level0_row22\" class=\"row_heading level0 row22\" >22</th>\n",
       "      <td id=\"T_51349_row22_col0\" class=\"data row22 col0\" >CPU Jobs</td>\n",
       "      <td id=\"T_51349_row22_col1\" class=\"data row22 col1\" >-1</td>\n",
       "    </tr>\n",
       "    <tr>\n",
       "      <th id=\"T_51349_level0_row23\" class=\"row_heading level0 row23\" >23</th>\n",
       "      <td id=\"T_51349_row23_col0\" class=\"data row23 col0\" >Use GPU</td>\n",
       "      <td id=\"T_51349_row23_col1\" class=\"data row23 col1\" >False</td>\n",
       "    </tr>\n",
       "    <tr>\n",
       "      <th id=\"T_51349_level0_row24\" class=\"row_heading level0 row24\" >24</th>\n",
       "      <td id=\"T_51349_row24_col0\" class=\"data row24 col0\" >Log Experiment</td>\n",
       "      <td id=\"T_51349_row24_col1\" class=\"data row24 col1\" >False</td>\n",
       "    </tr>\n",
       "    <tr>\n",
       "      <th id=\"T_51349_level0_row25\" class=\"row_heading level0 row25\" >25</th>\n",
       "      <td id=\"T_51349_row25_col0\" class=\"data row25 col0\" >Experiment Name</td>\n",
       "      <td id=\"T_51349_row25_col1\" class=\"data row25 col1\" >clf-default-name</td>\n",
       "    </tr>\n",
       "    <tr>\n",
       "      <th id=\"T_51349_level0_row26\" class=\"row_heading level0 row26\" >26</th>\n",
       "      <td id=\"T_51349_row26_col0\" class=\"data row26 col0\" >USI</td>\n",
       "      <td id=\"T_51349_row26_col1\" class=\"data row26 col1\" >3322</td>\n",
       "    </tr>\n",
       "  </tbody>\n",
       "</table>\n"
      ],
      "text/plain": [
       "<pandas.io.formats.style.Styler at 0x1bf0011de50>"
      ]
     },
     "metadata": {},
     "output_type": "display_data"
    },
    {
     "data": {
      "text/html": [],
      "text/plain": [
       "<IPython.core.display.HTML object>"
      ]
     },
     "metadata": {},
     "output_type": "display_data"
    },
    {
     "data": {
      "text/html": [
       "<style type=\"text/css\">\n",
       "#T_5f7b6 th {\n",
       "  text-align: left;\n",
       "}\n",
       "#T_5f7b6_row0_col0 {\n",
       "  text-align: left;\n",
       "}\n",
       "#T_5f7b6_row0_col1, #T_5f7b6_row0_col2, #T_5f7b6_row0_col3, #T_5f7b6_row0_col4, #T_5f7b6_row0_col5, #T_5f7b6_row0_col6, #T_5f7b6_row0_col7 {\n",
       "  text-align: left;\n",
       "  background-color: yellow;\n",
       "}\n",
       "#T_5f7b6_row0_col8 {\n",
       "  text-align: left;\n",
       "  background-color: yellow;\n",
       "  background-color: lightgrey;\n",
       "}\n",
       "</style>\n",
       "<table id=\"T_5f7b6\">\n",
       "  <thead>\n",
       "    <tr>\n",
       "      <th class=\"blank level0\" >&nbsp;</th>\n",
       "      <th id=\"T_5f7b6_level0_col0\" class=\"col_heading level0 col0\" >Model</th>\n",
       "      <th id=\"T_5f7b6_level0_col1\" class=\"col_heading level0 col1\" >Accuracy</th>\n",
       "      <th id=\"T_5f7b6_level0_col2\" class=\"col_heading level0 col2\" >AUC</th>\n",
       "      <th id=\"T_5f7b6_level0_col3\" class=\"col_heading level0 col3\" >Recall</th>\n",
       "      <th id=\"T_5f7b6_level0_col4\" class=\"col_heading level0 col4\" >Prec.</th>\n",
       "      <th id=\"T_5f7b6_level0_col5\" class=\"col_heading level0 col5\" >F1</th>\n",
       "      <th id=\"T_5f7b6_level0_col6\" class=\"col_heading level0 col6\" >Kappa</th>\n",
       "      <th id=\"T_5f7b6_level0_col7\" class=\"col_heading level0 col7\" >MCC</th>\n",
       "      <th id=\"T_5f7b6_level0_col8\" class=\"col_heading level0 col8\" >TT (Sec)</th>\n",
       "    </tr>\n",
       "  </thead>\n",
       "  <tbody>\n",
       "    <tr>\n",
       "      <th id=\"T_5f7b6_level0_row0\" class=\"row_heading level0 row0\" >rf</th>\n",
       "      <td id=\"T_5f7b6_row0_col0\" class=\"data row0 col0\" >Random Forest Classifier</td>\n",
       "      <td id=\"T_5f7b6_row0_col1\" class=\"data row0 col1\" >0.693</td>\n",
       "      <td id=\"T_5f7b6_row0_col2\" class=\"data row0 col2\" >0.689</td>\n",
       "      <td id=\"T_5f7b6_row0_col3\" class=\"data row0 col3\" >0.439</td>\n",
       "      <td id=\"T_5f7b6_row0_col4\" class=\"data row0 col4\" >0.364</td>\n",
       "      <td id=\"T_5f7b6_row0_col5\" class=\"data row0 col5\" >0.397</td>\n",
       "      <td id=\"T_5f7b6_row0_col6\" class=\"data row0 col6\" >0.337</td>\n",
       "      <td id=\"T_5f7b6_row0_col7\" class=\"data row0 col7\" >0.339</td>\n",
       "      <td id=\"T_5f7b6_row0_col8\" class=\"data row0 col8\" >2.868</td>\n",
       "    </tr>\n",
       "  </tbody>\n",
       "</table>\n"
      ],
      "text/plain": [
       "<pandas.io.formats.style.Styler at 0x1bf7ff8ce50>"
      ]
     },
     "metadata": {},
     "output_type": "display_data"
    },
    {
     "data": {
      "text/html": [],
      "text/plain": [
       "<IPython.core.display.HTML object>"
      ]
     },
     "metadata": {},
     "output_type": "display_data"
    },
    {
     "data": {
      "text/html": [
       "<style>#sk-container-id-1 {color: black;background-color: white;}#sk-container-id-1 pre{padding: 0;}#sk-container-id-1 div.sk-toggleable {background-color: white;}#sk-container-id-1 label.sk-toggleable__label {cursor: pointer;display: block;width: 100%;margin-bottom: 0;padding: 0.3em;box-sizing: border-box;text-align: center;}#sk-container-id-1 label.sk-toggleable__label-arrow:before {content: \"▸\";float: left;margin-right: 0.25em;color: #696969;}#sk-container-id-1 label.sk-toggleable__label-arrow:hover:before {color: black;}#sk-container-id-1 div.sk-estimator:hover label.sk-toggleable__label-arrow:before {color: black;}#sk-container-id-1 div.sk-toggleable__content {max-height: 0;max-width: 0;overflow: hidden;text-align: left;background-color: #f0f8ff;}#sk-container-id-1 div.sk-toggleable__content pre {margin: 0.2em;color: black;border-radius: 0.25em;background-color: #f0f8ff;}#sk-container-id-1 input.sk-toggleable__control:checked~div.sk-toggleable__content {max-height: 200px;max-width: 100%;overflow: auto;}#sk-container-id-1 input.sk-toggleable__control:checked~label.sk-toggleable__label-arrow:before {content: \"▾\";}#sk-container-id-1 div.sk-estimator input.sk-toggleable__control:checked~label.sk-toggleable__label {background-color: #d4ebff;}#sk-container-id-1 div.sk-label input.sk-toggleable__control:checked~label.sk-toggleable__label {background-color: #d4ebff;}#sk-container-id-1 input.sk-hidden--visually {border: 0;clip: rect(1px 1px 1px 1px);clip: rect(1px, 1px, 1px, 1px);height: 1px;margin: -1px;overflow: hidden;padding: 0;position: absolute;width: 1px;}#sk-container-id-1 div.sk-estimator {font-family: monospace;background-color: #f0f8ff;border: 1px dotted black;border-radius: 0.25em;box-sizing: border-box;margin-bottom: 0.5em;}#sk-container-id-1 div.sk-estimator:hover {background-color: #d4ebff;}#sk-container-id-1 div.sk-parallel-item::after {content: \"\";width: 100%;border-bottom: 1px solid gray;flex-grow: 1;}#sk-container-id-1 div.sk-label:hover label.sk-toggleable__label {background-color: #d4ebff;}#sk-container-id-1 div.sk-serial::before {content: \"\";position: absolute;border-left: 1px solid gray;box-sizing: border-box;top: 0;bottom: 0;left: 50%;z-index: 0;}#sk-container-id-1 div.sk-serial {display: flex;flex-direction: column;align-items: center;background-color: white;padding-right: 0.2em;padding-left: 0.2em;position: relative;}#sk-container-id-1 div.sk-item {position: relative;z-index: 1;}#sk-container-id-1 div.sk-parallel {display: flex;align-items: stretch;justify-content: center;background-color: white;position: relative;}#sk-container-id-1 div.sk-item::before, #sk-container-id-1 div.sk-parallel-item::before {content: \"\";position: absolute;border-left: 1px solid gray;box-sizing: border-box;top: 0;bottom: 0;left: 50%;z-index: -1;}#sk-container-id-1 div.sk-parallel-item {display: flex;flex-direction: column;z-index: 1;position: relative;background-color: white;}#sk-container-id-1 div.sk-parallel-item:first-child::after {align-self: flex-end;width: 50%;}#sk-container-id-1 div.sk-parallel-item:last-child::after {align-self: flex-start;width: 50%;}#sk-container-id-1 div.sk-parallel-item:only-child::after {width: 0;}#sk-container-id-1 div.sk-dashed-wrapped {border: 1px dashed gray;margin: 0 0.4em 0.5em 0.4em;box-sizing: border-box;padding-bottom: 0.4em;background-color: white;}#sk-container-id-1 div.sk-label label {font-family: monospace;font-weight: bold;display: inline-block;line-height: 1.2em;}#sk-container-id-1 div.sk-label-container {text-align: center;}#sk-container-id-1 div.sk-container {/* jupyter's `normalize.less` sets `[hidden] { display: none; }` but bootstrap.min.css set `[hidden] { display: none !important; }` so we also need the `!important` here to be able to override the default hidden behavior on the sphinx rendered scikit-learn.org. See: https://github.com/scikit-learn/scikit-learn/issues/21755 */display: inline-block !important;position: relative;}#sk-container-id-1 div.sk-text-repr-fallback {display: none;}</style><div id=\"sk-container-id-1\" class=\"sk-top-container\"><div class=\"sk-text-repr-fallback\"><pre>RandomForestClassifier(bootstrap=True, ccp_alpha=0.0, class_weight=None,\n",
       "                       criterion=&#x27;gini&#x27;, max_depth=None, max_features=&#x27;sqrt&#x27;,\n",
       "                       max_leaf_nodes=None, max_samples=None,\n",
       "                       min_impurity_decrease=0.0, min_samples_leaf=1,\n",
       "                       min_samples_split=2, min_weight_fraction_leaf=0.0,\n",
       "                       n_estimators=100, n_jobs=-1, oob_score=False,\n",
       "                       random_state=123, verbose=0, warm_start=False)</pre><b>In a Jupyter environment, please rerun this cell to show the HTML representation or trust the notebook. <br />On GitHub, the HTML representation is unable to render, please try loading this page with nbviewer.org.</b></div><div class=\"sk-container\" hidden><div class=\"sk-item\"><div class=\"sk-estimator sk-toggleable\"><input class=\"sk-toggleable__control sk-hidden--visually\" id=\"sk-estimator-id-1\" type=\"checkbox\" checked><label for=\"sk-estimator-id-1\" class=\"sk-toggleable__label sk-toggleable__label-arrow\">RandomForestClassifier</label><div class=\"sk-toggleable__content\"><pre>RandomForestClassifier(bootstrap=True, ccp_alpha=0.0, class_weight=None,\n",
       "                       criterion=&#x27;gini&#x27;, max_depth=None, max_features=&#x27;sqrt&#x27;,\n",
       "                       max_leaf_nodes=None, max_samples=None,\n",
       "                       min_impurity_decrease=0.0, min_samples_leaf=1,\n",
       "                       min_samples_split=2, min_weight_fraction_leaf=0.0,\n",
       "                       n_estimators=100, n_jobs=-1, oob_score=False,\n",
       "                       random_state=123, verbose=0, warm_start=False)</pre></div></div></div></div></div>"
      ],
      "text/plain": [
       "RandomForestClassifier(bootstrap=True, ccp_alpha=0.0, class_weight=None,\n",
       "                       criterion='gini', max_depth=None, max_features='sqrt',\n",
       "                       max_leaf_nodes=None, max_samples=None,\n",
       "                       min_impurity_decrease=0.0, min_samples_leaf=1,\n",
       "                       min_samples_split=2, min_weight_fraction_leaf=0.0,\n",
       "                       n_estimators=100, n_jobs=-1, oob_score=False,\n",
       "                       random_state=123, verbose=0, warm_start=False)"
      ]
     },
     "execution_count": 13,
     "metadata": {},
     "output_type": "execute_result"
    }
   ],
   "source": [
    "s = setup(train, **params)\n",
    "\n",
    "models = compare_models( \n",
    "    include=included_models,\n",
    "    sort=target_metric, \n",
    "    round=3, # number of decimals in reported metrics\n",
    "    n_select=3 if do_hyperparameter_search else 1, # return multiple model if \n",
    ")\n",
    "# best_model = models[0] if do_hyperparameter_search else models\n",
    "models"
   ]
  },
  {
   "cell_type": "code",
   "execution_count": 14,
   "metadata": {},
   "outputs": [],
   "source": [
    "best_model = models"
   ]
  },
  {
   "cell_type": "code",
   "execution_count": 15,
   "metadata": {},
   "outputs": [
    {
     "data": {
      "text/html": [
       "<style>#sk-container-id-2 {color: black;background-color: white;}#sk-container-id-2 pre{padding: 0;}#sk-container-id-2 div.sk-toggleable {background-color: white;}#sk-container-id-2 label.sk-toggleable__label {cursor: pointer;display: block;width: 100%;margin-bottom: 0;padding: 0.3em;box-sizing: border-box;text-align: center;}#sk-container-id-2 label.sk-toggleable__label-arrow:before {content: \"▸\";float: left;margin-right: 0.25em;color: #696969;}#sk-container-id-2 label.sk-toggleable__label-arrow:hover:before {color: black;}#sk-container-id-2 div.sk-estimator:hover label.sk-toggleable__label-arrow:before {color: black;}#sk-container-id-2 div.sk-toggleable__content {max-height: 0;max-width: 0;overflow: hidden;text-align: left;background-color: #f0f8ff;}#sk-container-id-2 div.sk-toggleable__content pre {margin: 0.2em;color: black;border-radius: 0.25em;background-color: #f0f8ff;}#sk-container-id-2 input.sk-toggleable__control:checked~div.sk-toggleable__content {max-height: 200px;max-width: 100%;overflow: auto;}#sk-container-id-2 input.sk-toggleable__control:checked~label.sk-toggleable__label-arrow:before {content: \"▾\";}#sk-container-id-2 div.sk-estimator input.sk-toggleable__control:checked~label.sk-toggleable__label {background-color: #d4ebff;}#sk-container-id-2 div.sk-label input.sk-toggleable__control:checked~label.sk-toggleable__label {background-color: #d4ebff;}#sk-container-id-2 input.sk-hidden--visually {border: 0;clip: rect(1px 1px 1px 1px);clip: rect(1px, 1px, 1px, 1px);height: 1px;margin: -1px;overflow: hidden;padding: 0;position: absolute;width: 1px;}#sk-container-id-2 div.sk-estimator {font-family: monospace;background-color: #f0f8ff;border: 1px dotted black;border-radius: 0.25em;box-sizing: border-box;margin-bottom: 0.5em;}#sk-container-id-2 div.sk-estimator:hover {background-color: #d4ebff;}#sk-container-id-2 div.sk-parallel-item::after {content: \"\";width: 100%;border-bottom: 1px solid gray;flex-grow: 1;}#sk-container-id-2 div.sk-label:hover label.sk-toggleable__label {background-color: #d4ebff;}#sk-container-id-2 div.sk-serial::before {content: \"\";position: absolute;border-left: 1px solid gray;box-sizing: border-box;top: 0;bottom: 0;left: 50%;z-index: 0;}#sk-container-id-2 div.sk-serial {display: flex;flex-direction: column;align-items: center;background-color: white;padding-right: 0.2em;padding-left: 0.2em;position: relative;}#sk-container-id-2 div.sk-item {position: relative;z-index: 1;}#sk-container-id-2 div.sk-parallel {display: flex;align-items: stretch;justify-content: center;background-color: white;position: relative;}#sk-container-id-2 div.sk-item::before, #sk-container-id-2 div.sk-parallel-item::before {content: \"\";position: absolute;border-left: 1px solid gray;box-sizing: border-box;top: 0;bottom: 0;left: 50%;z-index: -1;}#sk-container-id-2 div.sk-parallel-item {display: flex;flex-direction: column;z-index: 1;position: relative;background-color: white;}#sk-container-id-2 div.sk-parallel-item:first-child::after {align-self: flex-end;width: 50%;}#sk-container-id-2 div.sk-parallel-item:last-child::after {align-self: flex-start;width: 50%;}#sk-container-id-2 div.sk-parallel-item:only-child::after {width: 0;}#sk-container-id-2 div.sk-dashed-wrapped {border: 1px dashed gray;margin: 0 0.4em 0.5em 0.4em;box-sizing: border-box;padding-bottom: 0.4em;background-color: white;}#sk-container-id-2 div.sk-label label {font-family: monospace;font-weight: bold;display: inline-block;line-height: 1.2em;}#sk-container-id-2 div.sk-label-container {text-align: center;}#sk-container-id-2 div.sk-container {/* jupyter's `normalize.less` sets `[hidden] { display: none; }` but bootstrap.min.css set `[hidden] { display: none !important; }` so we also need the `!important` here to be able to override the default hidden behavior on the sphinx rendered scikit-learn.org. See: https://github.com/scikit-learn/scikit-learn/issues/21755 */display: inline-block !important;position: relative;}#sk-container-id-2 div.sk-text-repr-fallback {display: none;}</style><div id=\"sk-container-id-2\" class=\"sk-top-container\"><div class=\"sk-text-repr-fallback\"><pre>RandomForestClassifier(bootstrap=True, ccp_alpha=0.0, class_weight=None,\n",
       "                       criterion=&#x27;gini&#x27;, max_depth=None, max_features=&#x27;sqrt&#x27;,\n",
       "                       max_leaf_nodes=None, max_samples=None,\n",
       "                       min_impurity_decrease=0.0, min_samples_leaf=1,\n",
       "                       min_samples_split=2, min_weight_fraction_leaf=0.0,\n",
       "                       n_estimators=100, n_jobs=-1, oob_score=False,\n",
       "                       random_state=123, verbose=0, warm_start=False)</pre><b>In a Jupyter environment, please rerun this cell to show the HTML representation or trust the notebook. <br />On GitHub, the HTML representation is unable to render, please try loading this page with nbviewer.org.</b></div><div class=\"sk-container\" hidden><div class=\"sk-item\"><div class=\"sk-estimator sk-toggleable\"><input class=\"sk-toggleable__control sk-hidden--visually\" id=\"sk-estimator-id-2\" type=\"checkbox\" checked><label for=\"sk-estimator-id-2\" class=\"sk-toggleable__label sk-toggleable__label-arrow\">RandomForestClassifier</label><div class=\"sk-toggleable__content\"><pre>RandomForestClassifier(bootstrap=True, ccp_alpha=0.0, class_weight=None,\n",
       "                       criterion=&#x27;gini&#x27;, max_depth=None, max_features=&#x27;sqrt&#x27;,\n",
       "                       max_leaf_nodes=None, max_samples=None,\n",
       "                       min_impurity_decrease=0.0, min_samples_leaf=1,\n",
       "                       min_samples_split=2, min_weight_fraction_leaf=0.0,\n",
       "                       n_estimators=100, n_jobs=-1, oob_score=False,\n",
       "                       random_state=123, verbose=0, warm_start=False)</pre></div></div></div></div></div>"
      ],
      "text/plain": [
       "RandomForestClassifier(bootstrap=True, ccp_alpha=0.0, class_weight=None,\n",
       "                       criterion='gini', max_depth=None, max_features='sqrt',\n",
       "                       max_leaf_nodes=None, max_samples=None,\n",
       "                       min_impurity_decrease=0.0, min_samples_leaf=1,\n",
       "                       min_samples_split=2, min_weight_fraction_leaf=0.0,\n",
       "                       n_estimators=100, n_jobs=-1, oob_score=False,\n",
       "                       random_state=123, verbose=0, warm_start=False)"
      ]
     },
     "execution_count": 15,
     "metadata": {},
     "output_type": "execute_result"
    }
   ],
   "source": [
    "best_model"
   ]
  },
  {
   "cell_type": "code",
   "execution_count": 16,
   "metadata": {},
   "outputs": [],
   "source": [
    "if do_hyperparameter_search:\n",
    "    tuned = tune_model(\n",
    "        best_model, \n",
    "        optimize=target_metric, \n",
    "        round=3, \n",
    "        choose_better=True, \n",
    "        n_iter=50, \n",
    "        early_stopping=False, \n",
    "        early_stopping_max_iters=10, \n",
    "        verbose=False\n",
    "    )\n",
    "\n",
    "    bagged = ensemble_model(\n",
    "        best_model,\n",
    "        method='Bagging', \n",
    "        choose_better=True,\n",
    "        optimize=target_metric,\n",
    "    )\n",
    "\n",
    "    boosted = ensemble_model(\n",
    "        best_model,\n",
    "        method='Boosting', \n",
    "        choose_better=True,\n",
    "        optimize=target_metric,\n",
    "    )\n",
    "\n",
    "    blended = blend_models(\n",
    "        models, \n",
    "        choose_better=True,\n",
    "        optimize=target_metric,\n",
    "    )\n",
    "\n",
    "    stacked = stack_models(\n",
    "        models,\n",
    "        choose_better=True,\n",
    "        optimize=target_metric,\n",
    "    )\n",
    "\n",
    "    "
   ]
  },
  {
   "cell_type": "code",
   "execution_count": 17,
   "metadata": {},
   "outputs": [
    {
     "name": "stdout",
     "output_type": "stream",
     "text": [
      "Transformation Pipeline and Model Successfully Saved\n"
     ]
    },
    {
     "data": {
      "text/plain": [
       "(Pipeline(memory=FastMemory(location=C:\\Users\\bukuw\\AppData\\Local\\Temp\\joblib),\n",
       "          steps=[('numerical_imputer',\n",
       "                  TransformerWrapper(exclude=None,\n",
       "                                     include=['age_on_core_days',\n",
       "                                              'age_on_ncore_days',\n",
       "                                              'age_on_accounting_days',\n",
       "                                              'est_daily_customer', 'count_trf',\n",
       "                                              'm0_transaxi_cnt', 'm0_Utang_cnt',\n",
       "                                              'lm_transaxi_cnt', 'lm_Utang_cnt',\n",
       "                                              'm2_transaxi_cnt', 'm2_Utang_cnt',\n",
       "                                              'm3_tra...\n",
       "                  RandomForestClassifier(bootstrap=True, ccp_alpha=0.0,\n",
       "                                         class_weight=None, criterion='gini',\n",
       "                                         max_depth=None, max_features='sqrt',\n",
       "                                         max_leaf_nodes=None, max_samples=None,\n",
       "                                         min_impurity_decrease=0.0,\n",
       "                                         min_samples_leaf=1, min_samples_split=2,\n",
       "                                         min_weight_fraction_leaf=0.0,\n",
       "                                         n_estimators=100, n_jobs=-1,\n",
       "                                         oob_score=False, random_state=123,\n",
       "                                         verbose=0, warm_start=False))],\n",
       "          verbose=False),\n",
       " 'models/model.pkl')"
      ]
     },
     "execution_count": 17,
     "metadata": {},
     "output_type": "execute_result"
    }
   ],
   "source": [
    "best_model = automl(optimize=target_metric, use_holdout=False)\n",
    "finalized = finalize_model(best_model)\n",
    "save_model(finalized, model_name='models/model')"
   ]
  },
  {
   "cell_type": "code",
   "execution_count": 18,
   "metadata": {},
   "outputs": [
    {
     "data": {
      "text/html": [
       "<style>#sk-container-id-3 {color: black;background-color: white;}#sk-container-id-3 pre{padding: 0;}#sk-container-id-3 div.sk-toggleable {background-color: white;}#sk-container-id-3 label.sk-toggleable__label {cursor: pointer;display: block;width: 100%;margin-bottom: 0;padding: 0.3em;box-sizing: border-box;text-align: center;}#sk-container-id-3 label.sk-toggleable__label-arrow:before {content: \"▸\";float: left;margin-right: 0.25em;color: #696969;}#sk-container-id-3 label.sk-toggleable__label-arrow:hover:before {color: black;}#sk-container-id-3 div.sk-estimator:hover label.sk-toggleable__label-arrow:before {color: black;}#sk-container-id-3 div.sk-toggleable__content {max-height: 0;max-width: 0;overflow: hidden;text-align: left;background-color: #f0f8ff;}#sk-container-id-3 div.sk-toggleable__content pre {margin: 0.2em;color: black;border-radius: 0.25em;background-color: #f0f8ff;}#sk-container-id-3 input.sk-toggleable__control:checked~div.sk-toggleable__content {max-height: 200px;max-width: 100%;overflow: auto;}#sk-container-id-3 input.sk-toggleable__control:checked~label.sk-toggleable__label-arrow:before {content: \"▾\";}#sk-container-id-3 div.sk-estimator input.sk-toggleable__control:checked~label.sk-toggleable__label {background-color: #d4ebff;}#sk-container-id-3 div.sk-label input.sk-toggleable__control:checked~label.sk-toggleable__label {background-color: #d4ebff;}#sk-container-id-3 input.sk-hidden--visually {border: 0;clip: rect(1px 1px 1px 1px);clip: rect(1px, 1px, 1px, 1px);height: 1px;margin: -1px;overflow: hidden;padding: 0;position: absolute;width: 1px;}#sk-container-id-3 div.sk-estimator {font-family: monospace;background-color: #f0f8ff;border: 1px dotted black;border-radius: 0.25em;box-sizing: border-box;margin-bottom: 0.5em;}#sk-container-id-3 div.sk-estimator:hover {background-color: #d4ebff;}#sk-container-id-3 div.sk-parallel-item::after {content: \"\";width: 100%;border-bottom: 1px solid gray;flex-grow: 1;}#sk-container-id-3 div.sk-label:hover label.sk-toggleable__label {background-color: #d4ebff;}#sk-container-id-3 div.sk-serial::before {content: \"\";position: absolute;border-left: 1px solid gray;box-sizing: border-box;top: 0;bottom: 0;left: 50%;z-index: 0;}#sk-container-id-3 div.sk-serial {display: flex;flex-direction: column;align-items: center;background-color: white;padding-right: 0.2em;padding-left: 0.2em;position: relative;}#sk-container-id-3 div.sk-item {position: relative;z-index: 1;}#sk-container-id-3 div.sk-parallel {display: flex;align-items: stretch;justify-content: center;background-color: white;position: relative;}#sk-container-id-3 div.sk-item::before, #sk-container-id-3 div.sk-parallel-item::before {content: \"\";position: absolute;border-left: 1px solid gray;box-sizing: border-box;top: 0;bottom: 0;left: 50%;z-index: -1;}#sk-container-id-3 div.sk-parallel-item {display: flex;flex-direction: column;z-index: 1;position: relative;background-color: white;}#sk-container-id-3 div.sk-parallel-item:first-child::after {align-self: flex-end;width: 50%;}#sk-container-id-3 div.sk-parallel-item:last-child::after {align-self: flex-start;width: 50%;}#sk-container-id-3 div.sk-parallel-item:only-child::after {width: 0;}#sk-container-id-3 div.sk-dashed-wrapped {border: 1px dashed gray;margin: 0 0.4em 0.5em 0.4em;box-sizing: border-box;padding-bottom: 0.4em;background-color: white;}#sk-container-id-3 div.sk-label label {font-family: monospace;font-weight: bold;display: inline-block;line-height: 1.2em;}#sk-container-id-3 div.sk-label-container {text-align: center;}#sk-container-id-3 div.sk-container {/* jupyter's `normalize.less` sets `[hidden] { display: none; }` but bootstrap.min.css set `[hidden] { display: none !important; }` so we also need the `!important` here to be able to override the default hidden behavior on the sphinx rendered scikit-learn.org. See: https://github.com/scikit-learn/scikit-learn/issues/21755 */display: inline-block !important;position: relative;}#sk-container-id-3 div.sk-text-repr-fallback {display: none;}</style><div id=\"sk-container-id-3\" class=\"sk-top-container\"><div class=\"sk-text-repr-fallback\"><pre>Pipeline(memory=FastMemory(location=C:\\Users\\bukuw\\AppData\\Local\\Temp\\joblib),\n",
       "         steps=[(&#x27;numerical_imputer&#x27;,\n",
       "                 TransformerWrapper(exclude=None,\n",
       "                                    include=[&#x27;age_on_core_days&#x27;,\n",
       "                                             &#x27;age_on_ncore_days&#x27;,\n",
       "                                             &#x27;age_on_accounting_days&#x27;,\n",
       "                                             &#x27;est_daily_customer&#x27;, &#x27;count_trf&#x27;,\n",
       "                                             &#x27;m0_transaxi_cnt&#x27;, &#x27;m0_Utang_cnt&#x27;,\n",
       "                                             &#x27;lm_transaxi_cnt&#x27;, &#x27;lm_Utang_cnt&#x27;,\n",
       "                                             &#x27;m2_transaxi_cnt&#x27;, &#x27;m2_Utang_cnt&#x27;,\n",
       "                                             &#x27;m3_tra...\n",
       "                 RandomForestClassifier(bootstrap=True, ccp_alpha=0.0,\n",
       "                                        class_weight=None, criterion=&#x27;gini&#x27;,\n",
       "                                        max_depth=None, max_features=&#x27;sqrt&#x27;,\n",
       "                                        max_leaf_nodes=None, max_samples=None,\n",
       "                                        min_impurity_decrease=0.0,\n",
       "                                        min_samples_leaf=1, min_samples_split=2,\n",
       "                                        min_weight_fraction_leaf=0.0,\n",
       "                                        n_estimators=100, n_jobs=-1,\n",
       "                                        oob_score=False, random_state=123,\n",
       "                                        verbose=0, warm_start=False))],\n",
       "         verbose=False)</pre><b>In a Jupyter environment, please rerun this cell to show the HTML representation or trust the notebook. <br />On GitHub, the HTML representation is unable to render, please try loading this page with nbviewer.org.</b></div><div class=\"sk-container\" hidden><div class=\"sk-item sk-dashed-wrapped\"><div class=\"sk-label-container\"><div class=\"sk-label sk-toggleable\"><input class=\"sk-toggleable__control sk-hidden--visually\" id=\"sk-estimator-id-3\" type=\"checkbox\" ><label for=\"sk-estimator-id-3\" class=\"sk-toggleable__label sk-toggleable__label-arrow\">Pipeline</label><div class=\"sk-toggleable__content\"><pre>Pipeline(memory=FastMemory(location=C:\\Users\\bukuw\\AppData\\Local\\Temp\\joblib),\n",
       "         steps=[(&#x27;numerical_imputer&#x27;,\n",
       "                 TransformerWrapper(exclude=None,\n",
       "                                    include=[&#x27;age_on_core_days&#x27;,\n",
       "                                             &#x27;age_on_ncore_days&#x27;,\n",
       "                                             &#x27;age_on_accounting_days&#x27;,\n",
       "                                             &#x27;est_daily_customer&#x27;, &#x27;count_trf&#x27;,\n",
       "                                             &#x27;m0_transaxi_cnt&#x27;, &#x27;m0_Utang_cnt&#x27;,\n",
       "                                             &#x27;lm_transaxi_cnt&#x27;, &#x27;lm_Utang_cnt&#x27;,\n",
       "                                             &#x27;m2_transaxi_cnt&#x27;, &#x27;m2_Utang_cnt&#x27;,\n",
       "                                             &#x27;m3_tra...\n",
       "                 RandomForestClassifier(bootstrap=True, ccp_alpha=0.0,\n",
       "                                        class_weight=None, criterion=&#x27;gini&#x27;,\n",
       "                                        max_depth=None, max_features=&#x27;sqrt&#x27;,\n",
       "                                        max_leaf_nodes=None, max_samples=None,\n",
       "                                        min_impurity_decrease=0.0,\n",
       "                                        min_samples_leaf=1, min_samples_split=2,\n",
       "                                        min_weight_fraction_leaf=0.0,\n",
       "                                        n_estimators=100, n_jobs=-1,\n",
       "                                        oob_score=False, random_state=123,\n",
       "                                        verbose=0, warm_start=False))],\n",
       "         verbose=False)</pre></div></div></div><div class=\"sk-serial\"><div class=\"sk-item sk-dashed-wrapped\"><div class=\"sk-label-container\"><div class=\"sk-label sk-toggleable\"><input class=\"sk-toggleable__control sk-hidden--visually\" id=\"sk-estimator-id-4\" type=\"checkbox\" ><label for=\"sk-estimator-id-4\" class=\"sk-toggleable__label sk-toggleable__label-arrow\">numerical_imputer: TransformerWrapper</label><div class=\"sk-toggleable__content\"><pre>TransformerWrapper(exclude=None,\n",
       "                   include=[&#x27;age_on_core_days&#x27;, &#x27;age_on_ncore_days&#x27;,\n",
       "                            &#x27;age_on_accounting_days&#x27;, &#x27;est_daily_customer&#x27;,\n",
       "                            &#x27;count_trf&#x27;, &#x27;m0_transaxi_cnt&#x27;, &#x27;m0_Utang_cnt&#x27;,\n",
       "                            &#x27;lm_transaxi_cnt&#x27;, &#x27;lm_Utang_cnt&#x27;,\n",
       "                            &#x27;m2_transaxi_cnt&#x27;, &#x27;m2_Utang_cnt&#x27;,\n",
       "                            &#x27;m3_transaxi_cnt&#x27;, &#x27;m3_Utang_cnt&#x27;, &#x27;LM0_core_count&#x27;,\n",
       "                            &#x27;LM0_ppob_count&#x27;, &#x27;LM0_qris_count&#x27;, &#x27;LM0_core_tpv&#x27;,\n",
       "                            &#x27;LM0_ppob_tpv&#x27;, &#x27;LM0_qris_tpv&#x27;, &#x27;LM1_core_count&#x27;,\n",
       "                            &#x27;LM1_ppob_count&#x27;, &#x27;LM1_qris_count&#x27;, &#x27;LM1_core_tpv&#x27;,\n",
       "                            &#x27;LM1_ppob_tpv&#x27;, &#x27;LM1_qris_tpv&#x27;, &#x27;LM2_core_count&#x27;,\n",
       "                            &#x27;LM2_ppob_count&#x27;, &#x27;LM2_qris_count&#x27;, &#x27;LM2_core_tpv&#x27;,\n",
       "                            &#x27;LM2_ppob_tpv&#x27;, ...],\n",
       "                   transformer=KNNImputer(add_indicator=False, copy=True,\n",
       "                                          keep_empty_features=False,\n",
       "                                          metric=&#x27;nan_euclidean&#x27;,\n",
       "                                          missing_values=nan, n_neighbors=5,\n",
       "                                          weights=&#x27;uniform&#x27;))</pre></div></div></div><div class=\"sk-parallel\"><div class=\"sk-parallel-item\"><div class=\"sk-item\"><div class=\"sk-label-container\"><div class=\"sk-label sk-toggleable\"><input class=\"sk-toggleable__control sk-hidden--visually\" id=\"sk-estimator-id-5\" type=\"checkbox\" ><label for=\"sk-estimator-id-5\" class=\"sk-toggleable__label sk-toggleable__label-arrow\">transformer: KNNImputer</label><div class=\"sk-toggleable__content\"><pre>KNNImputer()</pre></div></div></div><div class=\"sk-serial\"><div class=\"sk-item\"><div class=\"sk-estimator sk-toggleable\"><input class=\"sk-toggleable__control sk-hidden--visually\" id=\"sk-estimator-id-6\" type=\"checkbox\" ><label for=\"sk-estimator-id-6\" class=\"sk-toggleable__label sk-toggleable__label-arrow\">KNNImputer</label><div class=\"sk-toggleable__content\"><pre>KNNImputer()</pre></div></div></div></div></div></div></div></div><div class=\"sk-item sk-dashed-wrapped\"><div class=\"sk-label-container\"><div class=\"sk-label sk-toggleable\"><input class=\"sk-toggleable__control sk-hidden--visually\" id=\"sk-estimator-id-7\" type=\"checkbox\" ><label for=\"sk-estimator-id-7\" class=\"sk-toggleable__label sk-toggleable__label-arrow\">categorical_imputer: TransformerWrapper</label><div class=\"sk-toggleable__content\"><pre>TransformerWrapper(exclude=None, include=[],\n",
       "                   transformer=SimpleImputer(add_indicator=False, copy=True,\n",
       "                                             fill_value=None,\n",
       "                                             keep_empty_features=False,\n",
       "                                             missing_values=nan,\n",
       "                                             strategy=&#x27;most_frequent&#x27;,\n",
       "                                             verbose=&#x27;deprecated&#x27;))</pre></div></div></div><div class=\"sk-parallel\"><div class=\"sk-parallel-item\"><div class=\"sk-item\"><div class=\"sk-label-container\"><div class=\"sk-label sk-toggleable\"><input class=\"sk-toggleable__control sk-hidden--visually\" id=\"sk-estimator-id-8\" type=\"checkbox\" ><label for=\"sk-estimator-id-8\" class=\"sk-toggleable__label sk-toggleable__label-arrow\">transformer: SimpleImputer</label><div class=\"sk-toggleable__content\"><pre>SimpleImputer(strategy=&#x27;most_frequent&#x27;)</pre></div></div></div><div class=\"sk-serial\"><div class=\"sk-item\"><div class=\"sk-estimator sk-toggleable\"><input class=\"sk-toggleable__control sk-hidden--visually\" id=\"sk-estimator-id-9\" type=\"checkbox\" ><label for=\"sk-estimator-id-9\" class=\"sk-toggleable__label sk-toggleable__label-arrow\">SimpleImputer</label><div class=\"sk-toggleable__content\"><pre>SimpleImputer(strategy=&#x27;most_frequent&#x27;)</pre></div></div></div></div></div></div></div></div><div class=\"sk-item sk-dashed-wrapped\"><div class=\"sk-label-container\"><div class=\"sk-label sk-toggleable\"><input class=\"sk-toggleable__control sk-hidden--visually\" id=\"sk-estimator-id-10\" type=\"checkbox\" ><label for=\"sk-estimator-id-10\" class=\"sk-toggleable__label sk-toggleable__label-arrow\">balance: TransformerWrapper</label><div class=\"sk-toggleable__content\"><pre>TransformerWrapper(exclude=None, include=None,\n",
       "                   transformer=FixImbalancer(estimator=SMOTE(k_neighbors=5,\n",
       "                                                             n_jobs=None,\n",
       "                                                             random_state=None,\n",
       "                                                             sampling_strategy=&#x27;auto&#x27;)))</pre></div></div></div><div class=\"sk-parallel\"><div class=\"sk-parallel-item\"><div class=\"sk-item\"><div class=\"sk-label-container\"><div class=\"sk-label sk-toggleable\"><input class=\"sk-toggleable__control sk-hidden--visually\" id=\"sk-estimator-id-11\" type=\"checkbox\" ><label for=\"sk-estimator-id-11\" class=\"sk-toggleable__label sk-toggleable__label-arrow\">transformer: FixImbalancer</label><div class=\"sk-toggleable__content\"><pre>FixImbalancer(estimator=SMOTE())</pre></div></div></div><div class=\"sk-serial\"><div class=\"sk-item sk-dashed-wrapped\"><div class=\"sk-parallel\"><div class=\"sk-parallel-item\"><div class=\"sk-item\"><div class=\"sk-label-container\"><div class=\"sk-label sk-toggleable\"><input class=\"sk-toggleable__control sk-hidden--visually\" id=\"sk-estimator-id-12\" type=\"checkbox\" ><label for=\"sk-estimator-id-12\" class=\"sk-toggleable__label sk-toggleable__label-arrow\">estimator: SMOTE</label><div class=\"sk-toggleable__content\"><pre>SMOTE()</pre></div></div></div><div class=\"sk-serial\"><div class=\"sk-item\"><div class=\"sk-estimator sk-toggleable\"><input class=\"sk-toggleable__control sk-hidden--visually\" id=\"sk-estimator-id-13\" type=\"checkbox\" ><label for=\"sk-estimator-id-13\" class=\"sk-toggleable__label sk-toggleable__label-arrow\">SMOTE</label><div class=\"sk-toggleable__content\"><pre>SMOTE()</pre></div></div></div></div></div></div></div></div></div></div></div></div></div><div class=\"sk-item sk-dashed-wrapped\"><div class=\"sk-label-container\"><div class=\"sk-label sk-toggleable\"><input class=\"sk-toggleable__control sk-hidden--visually\" id=\"sk-estimator-id-14\" type=\"checkbox\" ><label for=\"sk-estimator-id-14\" class=\"sk-toggleable__label sk-toggleable__label-arrow\">transformation: TransformerWrapper</label><div class=\"sk-toggleable__content\"><pre>TransformerWrapper(exclude=None, include=None,\n",
       "                   transformer=PowerTransformer(copy=True, method=&#x27;yeo-johnson&#x27;,\n",
       "                                                standardize=False))</pre></div></div></div><div class=\"sk-parallel\"><div class=\"sk-parallel-item\"><div class=\"sk-item\"><div class=\"sk-label-container\"><div class=\"sk-label sk-toggleable\"><input class=\"sk-toggleable__control sk-hidden--visually\" id=\"sk-estimator-id-15\" type=\"checkbox\" ><label for=\"sk-estimator-id-15\" class=\"sk-toggleable__label sk-toggleable__label-arrow\">transformer: PowerTransformer</label><div class=\"sk-toggleable__content\"><pre>PowerTransformer(standardize=False)</pre></div></div></div><div class=\"sk-serial\"><div class=\"sk-item\"><div class=\"sk-estimator sk-toggleable\"><input class=\"sk-toggleable__control sk-hidden--visually\" id=\"sk-estimator-id-16\" type=\"checkbox\" ><label for=\"sk-estimator-id-16\" class=\"sk-toggleable__label sk-toggleable__label-arrow\">PowerTransformer</label><div class=\"sk-toggleable__content\"><pre>PowerTransformer(standardize=False)</pre></div></div></div></div></div></div></div></div><div class=\"sk-item sk-dashed-wrapped\"><div class=\"sk-label-container\"><div class=\"sk-label sk-toggleable\"><input class=\"sk-toggleable__control sk-hidden--visually\" id=\"sk-estimator-id-17\" type=\"checkbox\" ><label for=\"sk-estimator-id-17\" class=\"sk-toggleable__label sk-toggleable__label-arrow\">normalize: TransformerWrapper</label><div class=\"sk-toggleable__content\"><pre>TransformerWrapper(exclude=None, include=None,\n",
       "                   transformer=StandardScaler(copy=True, with_mean=True,\n",
       "                                              with_std=True))</pre></div></div></div><div class=\"sk-parallel\"><div class=\"sk-parallel-item\"><div class=\"sk-item\"><div class=\"sk-label-container\"><div class=\"sk-label sk-toggleable\"><input class=\"sk-toggleable__control sk-hidden--visually\" id=\"sk-estimator-id-18\" type=\"checkbox\" ><label for=\"sk-estimator-id-18\" class=\"sk-toggleable__label sk-toggleable__label-arrow\">transformer: StandardScaler</label><div class=\"sk-toggleable__content\"><pre>StandardScaler()</pre></div></div></div><div class=\"sk-serial\"><div class=\"sk-item\"><div class=\"sk-estimator sk-toggleable\"><input class=\"sk-toggleable__control sk-hidden--visually\" id=\"sk-estimator-id-19\" type=\"checkbox\" ><label for=\"sk-estimator-id-19\" class=\"sk-toggleable__label sk-toggleable__label-arrow\">StandardScaler</label><div class=\"sk-toggleable__content\"><pre>StandardScaler()</pre></div></div></div></div></div></div></div></div><div class=\"sk-item sk-dashed-wrapped\"><div class=\"sk-label-container\"><div class=\"sk-label sk-toggleable\"><input class=\"sk-toggleable__control sk-hidden--visually\" id=\"sk-estimator-id-20\" type=\"checkbox\" ><label for=\"sk-estimator-id-20\" class=\"sk-toggleable__label sk-toggleable__label-arrow\">clean_column_names: TransformerWrapper</label><div class=\"sk-toggleable__content\"><pre>TransformerWrapper(exclude=None, include=None,\n",
       "                   transformer=CleanColumnNames(match=&#x27;[\\\\]\\\\[\\\\,\\\\{\\\\}\\\\&quot;\\\\:]+&#x27;))</pre></div></div></div><div class=\"sk-parallel\"><div class=\"sk-parallel-item\"><div class=\"sk-item\"><div class=\"sk-label-container\"><div class=\"sk-label sk-toggleable\"><input class=\"sk-toggleable__control sk-hidden--visually\" id=\"sk-estimator-id-21\" type=\"checkbox\" ><label for=\"sk-estimator-id-21\" class=\"sk-toggleable__label sk-toggleable__label-arrow\">transformer: CleanColumnNames</label><div class=\"sk-toggleable__content\"><pre>CleanColumnNames()</pre></div></div></div><div class=\"sk-serial\"><div class=\"sk-item\"><div class=\"sk-estimator sk-toggleable\"><input class=\"sk-toggleable__control sk-hidden--visually\" id=\"sk-estimator-id-22\" type=\"checkbox\" ><label for=\"sk-estimator-id-22\" class=\"sk-toggleable__label sk-toggleable__label-arrow\">CleanColumnNames</label><div class=\"sk-toggleable__content\"><pre>CleanColumnNames()</pre></div></div></div></div></div></div></div></div><div class=\"sk-item\"><div class=\"sk-estimator sk-toggleable\"><input class=\"sk-toggleable__control sk-hidden--visually\" id=\"sk-estimator-id-23\" type=\"checkbox\" ><label for=\"sk-estimator-id-23\" class=\"sk-toggleable__label sk-toggleable__label-arrow\">RandomForestClassifier</label><div class=\"sk-toggleable__content\"><pre>RandomForestClassifier(n_jobs=-1, random_state=123)</pre></div></div></div></div></div></div></div>"
      ],
      "text/plain": [
       "Pipeline(memory=FastMemory(location=C:\\Users\\bukuw\\AppData\\Local\\Temp\\joblib),\n",
       "         steps=[('numerical_imputer',\n",
       "                 TransformerWrapper(exclude=None,\n",
       "                                    include=['age_on_core_days',\n",
       "                                             'age_on_ncore_days',\n",
       "                                             'age_on_accounting_days',\n",
       "                                             'est_daily_customer', 'count_trf',\n",
       "                                             'm0_transaxi_cnt', 'm0_Utang_cnt',\n",
       "                                             'lm_transaxi_cnt', 'lm_Utang_cnt',\n",
       "                                             'm2_transaxi_cnt', 'm2_Utang_cnt',\n",
       "                                             'm3_tra...\n",
       "                 RandomForestClassifier(bootstrap=True, ccp_alpha=0.0,\n",
       "                                        class_weight=None, criterion='gini',\n",
       "                                        max_depth=None, max_features='sqrt',\n",
       "                                        max_leaf_nodes=None, max_samples=None,\n",
       "                                        min_impurity_decrease=0.0,\n",
       "                                        min_samples_leaf=1, min_samples_split=2,\n",
       "                                        min_weight_fraction_leaf=0.0,\n",
       "                                        n_estimators=100, n_jobs=-1,\n",
       "                                        oob_score=False, random_state=123,\n",
       "                                        verbose=0, warm_start=False))],\n",
       "         verbose=False)"
      ]
     },
     "execution_count": 18,
     "metadata": {},
     "output_type": "execute_result"
    }
   ],
   "source": [
    "finalized"
   ]
  },
  {
   "cell_type": "code",
   "execution_count": 19,
   "metadata": {},
   "outputs": [
    {
     "data": {
      "text/html": [],
      "text/plain": [
       "<IPython.core.display.HTML object>"
      ]
     },
     "metadata": {},
     "output_type": "display_data"
    },
    {
     "data": {
      "text/html": [],
      "text/plain": [
       "<IPython.core.display.HTML object>"
      ]
     },
     "metadata": {},
     "output_type": "display_data"
    },
    {
     "data": {
      "text/html": [],
      "text/plain": [
       "<IPython.core.display.HTML object>"
      ]
     },
     "metadata": {},
     "output_type": "display_data"
    },
    {
     "data": {
      "text/html": [],
      "text/plain": [
       "<IPython.core.display.HTML object>"
      ]
     },
     "metadata": {},
     "output_type": "display_data"
    },
    {
     "data": {
      "text/html": [],
      "text/plain": [
       "<IPython.core.display.HTML object>"
      ]
     },
     "metadata": {},
     "output_type": "display_data"
    },
    {
     "data": {
      "text/html": [],
      "text/plain": [
       "<IPython.core.display.HTML object>"
      ]
     },
     "metadata": {},
     "output_type": "display_data"
    },
    {
     "data": {
      "text/html": [
       "<div>\n",
       "<style scoped>\n",
       "    .dataframe tbody tr th:only-of-type {\n",
       "        vertical-align: middle;\n",
       "    }\n",
       "\n",
       "    .dataframe tbody tr th {\n",
       "        vertical-align: top;\n",
       "    }\n",
       "\n",
       "    .dataframe thead th {\n",
       "        text-align: right;\n",
       "    }\n",
       "</style>\n",
       "<table border=\"1\" class=\"dataframe\">\n",
       "  <thead>\n",
       "    <tr style=\"text-align: right;\">\n",
       "      <th></th>\n",
       "      <th>Model Name</th>\n",
       "      <th>Model</th>\n",
       "      <th>Accuracy</th>\n",
       "      <th>AUC</th>\n",
       "      <th>Recall</th>\n",
       "      <th>Prec.</th>\n",
       "      <th>F1</th>\n",
       "      <th>Kappa</th>\n",
       "      <th>MCC</th>\n",
       "    </tr>\n",
       "    <tr>\n",
       "      <th>Index</th>\n",
       "      <th></th>\n",
       "      <th></th>\n",
       "      <th></th>\n",
       "      <th></th>\n",
       "      <th></th>\n",
       "      <th></th>\n",
       "      <th></th>\n",
       "      <th></th>\n",
       "      <th></th>\n",
       "    </tr>\n",
       "  </thead>\n",
       "  <tbody>\n",
       "    <tr>\n",
       "      <th>0</th>\n",
       "      <td>Random Forest Classifier</td>\n",
       "      <td>(TransformerWrapper(exclude=None,\\n           ...</td>\n",
       "      <td>0.693</td>\n",
       "      <td>0.689</td>\n",
       "      <td>0.439</td>\n",
       "      <td>0.364</td>\n",
       "      <td>0.397</td>\n",
       "      <td>0.337</td>\n",
       "      <td>0.339</td>\n",
       "    </tr>\n",
       "  </tbody>\n",
       "</table>\n",
       "</div>"
      ],
      "text/plain": [
       "                     Model Name  \\\n",
       "Index                             \n",
       "0      Random Forest Classifier   \n",
       "\n",
       "                                                   Model  Accuracy    AUC  \\\n",
       "Index                                                                       \n",
       "0      (TransformerWrapper(exclude=None,\\n           ...     0.693  0.689   \n",
       "\n",
       "       Recall  Prec.     F1  Kappa    MCC  \n",
       "Index                                      \n",
       "0       0.439  0.364  0.397  0.337  0.339  "
      ]
     },
     "execution_count": 19,
     "metadata": {},
     "output_type": "execute_result"
    }
   ],
   "source": [
    "(\n",
    "    get_leaderboard()\n",
    "    .sort_values(target_metric, ascending=False)\n",
    "    .to_csv('result/model_performance.csv')\n",
    ")\n",
    "\n",
    "(\n",
    "    get_leaderboard()\n",
    "    .sort_values(target_metric, ascending=False)\n",
    ")"
   ]
  },
  {
   "attachments": {},
   "cell_type": "markdown",
   "metadata": {},
   "source": [
    "# Model inference"
   ]
  },
  {
   "cell_type": "code",
   "execution_count": 20,
   "metadata": {},
   "outputs": [],
   "source": [
    "interpret_model(best_model, save=True)"
   ]
  },
  {
   "cell_type": "code",
   "execution_count": 21,
   "metadata": {},
   "outputs": [
    {
     "data": {
      "text/html": [],
      "text/plain": [
       "<IPython.core.display.HTML object>"
      ]
     },
     "metadata": {},
     "output_type": "display_data"
    },
    {
     "data": {
      "text/html": [],
      "text/plain": [
       "<IPython.core.display.HTML object>"
      ]
     },
     "metadata": {},
     "output_type": "display_data"
    },
    {
     "data": {
      "text/html": [],
      "text/plain": [
       "<IPython.core.display.HTML object>"
      ]
     },
     "metadata": {},
     "output_type": "display_data"
    },
    {
     "data": {
      "text/html": [],
      "text/plain": [
       "<IPython.core.display.HTML object>"
      ]
     },
     "metadata": {},
     "output_type": "display_data"
    }
   ],
   "source": [
    "for p in plots:\n",
    "    os.chdir('graph')\n",
    "    plot_model(best_model, p, save=True)\n",
    "    os.chdir('..')"
   ]
  },
  {
   "cell_type": "code",
   "execution_count": 22,
   "metadata": {},
   "outputs": [
    {
     "data": {
      "text/html": [
       "<style>#sk-container-id-4 {color: black;background-color: white;}#sk-container-id-4 pre{padding: 0;}#sk-container-id-4 div.sk-toggleable {background-color: white;}#sk-container-id-4 label.sk-toggleable__label {cursor: pointer;display: block;width: 100%;margin-bottom: 0;padding: 0.3em;box-sizing: border-box;text-align: center;}#sk-container-id-4 label.sk-toggleable__label-arrow:before {content: \"▸\";float: left;margin-right: 0.25em;color: #696969;}#sk-container-id-4 label.sk-toggleable__label-arrow:hover:before {color: black;}#sk-container-id-4 div.sk-estimator:hover label.sk-toggleable__label-arrow:before {color: black;}#sk-container-id-4 div.sk-toggleable__content {max-height: 0;max-width: 0;overflow: hidden;text-align: left;background-color: #f0f8ff;}#sk-container-id-4 div.sk-toggleable__content pre {margin: 0.2em;color: black;border-radius: 0.25em;background-color: #f0f8ff;}#sk-container-id-4 input.sk-toggleable__control:checked~div.sk-toggleable__content {max-height: 200px;max-width: 100%;overflow: auto;}#sk-container-id-4 input.sk-toggleable__control:checked~label.sk-toggleable__label-arrow:before {content: \"▾\";}#sk-container-id-4 div.sk-estimator input.sk-toggleable__control:checked~label.sk-toggleable__label {background-color: #d4ebff;}#sk-container-id-4 div.sk-label input.sk-toggleable__control:checked~label.sk-toggleable__label {background-color: #d4ebff;}#sk-container-id-4 input.sk-hidden--visually {border: 0;clip: rect(1px 1px 1px 1px);clip: rect(1px, 1px, 1px, 1px);height: 1px;margin: -1px;overflow: hidden;padding: 0;position: absolute;width: 1px;}#sk-container-id-4 div.sk-estimator {font-family: monospace;background-color: #f0f8ff;border: 1px dotted black;border-radius: 0.25em;box-sizing: border-box;margin-bottom: 0.5em;}#sk-container-id-4 div.sk-estimator:hover {background-color: #d4ebff;}#sk-container-id-4 div.sk-parallel-item::after {content: \"\";width: 100%;border-bottom: 1px solid gray;flex-grow: 1;}#sk-container-id-4 div.sk-label:hover label.sk-toggleable__label {background-color: #d4ebff;}#sk-container-id-4 div.sk-serial::before {content: \"\";position: absolute;border-left: 1px solid gray;box-sizing: border-box;top: 0;bottom: 0;left: 50%;z-index: 0;}#sk-container-id-4 div.sk-serial {display: flex;flex-direction: column;align-items: center;background-color: white;padding-right: 0.2em;padding-left: 0.2em;position: relative;}#sk-container-id-4 div.sk-item {position: relative;z-index: 1;}#sk-container-id-4 div.sk-parallel {display: flex;align-items: stretch;justify-content: center;background-color: white;position: relative;}#sk-container-id-4 div.sk-item::before, #sk-container-id-4 div.sk-parallel-item::before {content: \"\";position: absolute;border-left: 1px solid gray;box-sizing: border-box;top: 0;bottom: 0;left: 50%;z-index: -1;}#sk-container-id-4 div.sk-parallel-item {display: flex;flex-direction: column;z-index: 1;position: relative;background-color: white;}#sk-container-id-4 div.sk-parallel-item:first-child::after {align-self: flex-end;width: 50%;}#sk-container-id-4 div.sk-parallel-item:last-child::after {align-self: flex-start;width: 50%;}#sk-container-id-4 div.sk-parallel-item:only-child::after {width: 0;}#sk-container-id-4 div.sk-dashed-wrapped {border: 1px dashed gray;margin: 0 0.4em 0.5em 0.4em;box-sizing: border-box;padding-bottom: 0.4em;background-color: white;}#sk-container-id-4 div.sk-label label {font-family: monospace;font-weight: bold;display: inline-block;line-height: 1.2em;}#sk-container-id-4 div.sk-label-container {text-align: center;}#sk-container-id-4 div.sk-container {/* jupyter's `normalize.less` sets `[hidden] { display: none; }` but bootstrap.min.css set `[hidden] { display: none !important; }` so we also need the `!important` here to be able to override the default hidden behavior on the sphinx rendered scikit-learn.org. See: https://github.com/scikit-learn/scikit-learn/issues/21755 */display: inline-block !important;position: relative;}#sk-container-id-4 div.sk-text-repr-fallback {display: none;}</style><div id=\"sk-container-id-4\" class=\"sk-top-container\"><div class=\"sk-text-repr-fallback\"><pre>RandomForestClassifier(bootstrap=True, ccp_alpha=0.0, class_weight=None,\n",
       "                       criterion=&#x27;gini&#x27;, max_depth=None, max_features=&#x27;sqrt&#x27;,\n",
       "                       max_leaf_nodes=None, max_samples=None,\n",
       "                       min_impurity_decrease=0.0, min_samples_leaf=1,\n",
       "                       min_samples_split=2, min_weight_fraction_leaf=0.0,\n",
       "                       n_estimators=100, n_jobs=-1, oob_score=False,\n",
       "                       random_state=123, verbose=0, warm_start=False)</pre><b>In a Jupyter environment, please rerun this cell to show the HTML representation or trust the notebook. <br />On GitHub, the HTML representation is unable to render, please try loading this page with nbviewer.org.</b></div><div class=\"sk-container\" hidden><div class=\"sk-item\"><div class=\"sk-estimator sk-toggleable\"><input class=\"sk-toggleable__control sk-hidden--visually\" id=\"sk-estimator-id-24\" type=\"checkbox\" checked><label for=\"sk-estimator-id-24\" class=\"sk-toggleable__label sk-toggleable__label-arrow\">RandomForestClassifier</label><div class=\"sk-toggleable__content\"><pre>RandomForestClassifier(bootstrap=True, ccp_alpha=0.0, class_weight=None,\n",
       "                       criterion=&#x27;gini&#x27;, max_depth=None, max_features=&#x27;sqrt&#x27;,\n",
       "                       max_leaf_nodes=None, max_samples=None,\n",
       "                       min_impurity_decrease=0.0, min_samples_leaf=1,\n",
       "                       min_samples_split=2, min_weight_fraction_leaf=0.0,\n",
       "                       n_estimators=100, n_jobs=-1, oob_score=False,\n",
       "                       random_state=123, verbose=0, warm_start=False)</pre></div></div></div></div></div>"
      ],
      "text/plain": [
       "RandomForestClassifier(bootstrap=True, ccp_alpha=0.0, class_weight=None,\n",
       "                       criterion='gini', max_depth=None, max_features='sqrt',\n",
       "                       max_leaf_nodes=None, max_samples=None,\n",
       "                       min_impurity_decrease=0.0, min_samples_leaf=1,\n",
       "                       min_samples_split=2, min_weight_fraction_leaf=0.0,\n",
       "                       n_estimators=100, n_jobs=-1, oob_score=False,\n",
       "                       random_state=123, verbose=0, warm_start=False)"
      ]
     },
     "execution_count": 22,
     "metadata": {},
     "output_type": "execute_result"
    }
   ],
   "source": [
    "best_model"
   ]
  },
  {
   "attachments": {},
   "cell_type": "markdown",
   "metadata": {},
   "source": [
    "# Inference"
   ]
  },
  {
   "cell_type": "code",
   "execution_count": 23,
   "metadata": {},
   "outputs": [
    {
     "name": "stdout",
     "output_type": "stream",
     "text": [
      "Result of finalized model on training set:\n"
     ]
    },
    {
     "data": {
      "text/html": [],
      "text/plain": [
       "<IPython.core.display.HTML object>"
      ]
     },
     "metadata": {},
     "output_type": "display_data"
    }
   ],
   "source": [
    "print('Result of finalized model on training set:')\n",
    "predict_model(finalized, train, raw_score=True).to_csv('result/train_inference.csv', index=False)"
   ]
  },
  {
   "cell_type": "code",
   "execution_count": 24,
   "metadata": {},
   "outputs": [
    {
     "name": "stdout",
     "output_type": "stream",
     "text": [
      "Result of finalized model on test set:\n"
     ]
    },
    {
     "data": {
      "text/html": [
       "<style type=\"text/css\">\n",
       "</style>\n",
       "<table id=\"T_96ab3\">\n",
       "  <thead>\n",
       "    <tr>\n",
       "      <th class=\"blank level0\" >&nbsp;</th>\n",
       "      <th id=\"T_96ab3_level0_col0\" class=\"col_heading level0 col0\" >Model</th>\n",
       "      <th id=\"T_96ab3_level0_col1\" class=\"col_heading level0 col1\" >Accuracy</th>\n",
       "      <th id=\"T_96ab3_level0_col2\" class=\"col_heading level0 col2\" >AUC</th>\n",
       "      <th id=\"T_96ab3_level0_col3\" class=\"col_heading level0 col3\" >Recall</th>\n",
       "      <th id=\"T_96ab3_level0_col4\" class=\"col_heading level0 col4\" >Prec.</th>\n",
       "      <th id=\"T_96ab3_level0_col5\" class=\"col_heading level0 col5\" >F1</th>\n",
       "      <th id=\"T_96ab3_level0_col6\" class=\"col_heading level0 col6\" >Kappa</th>\n",
       "      <th id=\"T_96ab3_level0_col7\" class=\"col_heading level0 col7\" >MCC</th>\n",
       "    </tr>\n",
       "  </thead>\n",
       "  <tbody>\n",
       "    <tr>\n",
       "      <th id=\"T_96ab3_level0_row0\" class=\"row_heading level0 row0\" >0</th>\n",
       "      <td id=\"T_96ab3_row0_col0\" class=\"data row0 col0\" >Random Forest Classifier</td>\n",
       "      <td id=\"T_96ab3_row0_col1\" class=\"data row0 col1\" >0.8852</td>\n",
       "      <td id=\"T_96ab3_row0_col2\" class=\"data row0 col2\" >0.8907</td>\n",
       "      <td id=\"T_96ab3_row0_col3\" class=\"data row0 col3\" >0.5939</td>\n",
       "      <td id=\"T_96ab3_row0_col4\" class=\"data row0 col4\" >0.5270</td>\n",
       "      <td id=\"T_96ab3_row0_col5\" class=\"data row0 col5\" >0.5585</td>\n",
       "      <td id=\"T_96ab3_row0_col6\" class=\"data row0 col6\" >0.4927</td>\n",
       "      <td id=\"T_96ab3_row0_col7\" class=\"data row0 col7\" >0.4939</td>\n",
       "    </tr>\n",
       "  </tbody>\n",
       "</table>\n"
      ],
      "text/plain": [
       "<pandas.io.formats.style.Styler at 0x1bf024d4ac0>"
      ]
     },
     "metadata": {},
     "output_type": "display_data"
    },
    {
     "data": {
      "text/html": [
       "<style type=\"text/css\">\n",
       "</style>\n",
       "<table id=\"T_ab508\">\n",
       "  <thead>\n",
       "    <tr>\n",
       "      <th class=\"blank level0\" >&nbsp;</th>\n",
       "      <th id=\"T_ab508_level0_col0\" class=\"col_heading level0 col0\" >Model</th>\n",
       "      <th id=\"T_ab508_level0_col1\" class=\"col_heading level0 col1\" >Accuracy</th>\n",
       "      <th id=\"T_ab508_level0_col2\" class=\"col_heading level0 col2\" >AUC</th>\n",
       "      <th id=\"T_ab508_level0_col3\" class=\"col_heading level0 col3\" >Recall</th>\n",
       "      <th id=\"T_ab508_level0_col4\" class=\"col_heading level0 col4\" >Prec.</th>\n",
       "      <th id=\"T_ab508_level0_col5\" class=\"col_heading level0 col5\" >F1</th>\n",
       "      <th id=\"T_ab508_level0_col6\" class=\"col_heading level0 col6\" >Kappa</th>\n",
       "      <th id=\"T_ab508_level0_col7\" class=\"col_heading level0 col7\" >MCC</th>\n",
       "    </tr>\n",
       "  </thead>\n",
       "  <tbody>\n",
       "    <tr>\n",
       "      <th id=\"T_ab508_level0_row0\" class=\"row_heading level0 row0\" >0</th>\n",
       "      <td id=\"T_ab508_row0_col0\" class=\"data row0 col0\" >Random Forest Classifier</td>\n",
       "      <td id=\"T_ab508_row0_col1\" class=\"data row0 col1\" >0.8852</td>\n",
       "      <td id=\"T_ab508_row0_col2\" class=\"data row0 col2\" >0.8907</td>\n",
       "      <td id=\"T_ab508_row0_col3\" class=\"data row0 col3\" >0.5939</td>\n",
       "      <td id=\"T_ab508_row0_col4\" class=\"data row0 col4\" >0.5270</td>\n",
       "      <td id=\"T_ab508_row0_col5\" class=\"data row0 col5\" >0.5585</td>\n",
       "      <td id=\"T_ab508_row0_col6\" class=\"data row0 col6\" >0.4927</td>\n",
       "      <td id=\"T_ab508_row0_col7\" class=\"data row0 col7\" >0.4939</td>\n",
       "    </tr>\n",
       "  </tbody>\n",
       "</table>\n"
      ],
      "text/plain": [
       "<pandas.io.formats.style.Styler at 0x1bf02634dc0>"
      ]
     },
     "metadata": {},
     "output_type": "display_data"
    }
   ],
   "source": [
    "print('Result of finalized model on test set:')\n",
    "predict_model(finalized, test, raw_score=True).to_csv('result/test_inference.csv', index=False)\n",
    "predict_model(finalized, test, raw_score=True)\n",
    "\n",
    "# save model\n",
    "pickle.dump(finalized, open('models/model.sav', 'wb'))\n",
    "\n",
    "# print('Result of all other models:')\n",
    "# for i in models:\n",
    "#     predict_model(i, test)\n"
   ]
  },
  {
   "attachments": {},
   "cell_type": "markdown",
   "metadata": {},
   "source": [
    "# "
   ]
  }
 ],
 "metadata": {
  "kernelspec": {
   "display_name": "base",
   "language": "python",
   "name": "python3"
  },
  "language_info": {
   "codemirror_mode": {
    "name": "ipython",
    "version": 3
   },
   "file_extension": ".py",
   "mimetype": "text/x-python",
   "name": "python",
   "nbconvert_exporter": "python",
   "pygments_lexer": "ipython3",
   "version": "3.9.6"
  },
  "orig_nbformat": 4,
  "vscode": {
   "interpreter": {
    "hash": "3e95b8722b498076d46b921338325bb8342257a9936da58bae71cedf67717af3"
   }
  }
 },
 "nbformat": 4,
 "nbformat_minor": 2
}
