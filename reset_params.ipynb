{
 "cells": [
  {
   "cell_type": "code",
   "execution_count": 1,
   "metadata": {},
   "outputs": [
    {
     "data": {
      "text/plain": [
       "'c:\\\\Users\\\\bukuw\\\\work\\\\automl_edc'"
      ]
     },
     "execution_count": 1,
     "metadata": {},
     "output_type": "execute_result"
    }
   ],
   "source": [
    "import os\n",
    "os.getcwd()"
   ]
  },
  {
   "cell_type": "code",
   "execution_count": 2,
   "metadata": {},
   "outputs": [],
   "source": [
    "import json \n",
    "\n",
    "## Backup for full Pycaret Setup control\n",
    "params = {\n",
    "    'target':'interested_to_EDC_flag', \n",
    "    'target_metric': 'MCC', # 'Accuracy', 'AUC', 'Recall', 'Precision', 'F1', 'Kappa', 'MCC'\n",
    "    'train_size': 0.8, \n",
    "    'numeric_features': [], \n",
    "    'categorical_features': [], \n",
    "    'ignore_features': 'phone_number_clean', \n",
    "    'imputation_type': 'simple', #‘simple’ or ‘iterative’\n",
    "    'numeric_imputation': 'knn', # “drop”, “mean”, “median”, “mode”, “knn”, int or float\n",
    "    'categorical_imputation': 'mode', # “drop”, “mode”, str\n",
    "    'iterative_imputation_iters': 5, \n",
    "    'numeric_iterative_imputer': 'lightgbm', \n",
    "    'categorical_iterative_imputer': 'lightgbm', \n",
    "    'remove_multicollinearity': False, \n",
    "    'multicollinearity_threshold': 0.9, \n",
    "    'remove_outliers': False, \n",
    "    'fix_imbalance': True, \n",
    "    'transformation': True, \n",
    "    'normalize': True, \n",
    "    'data_split_shuffle': False, \n",
    "    'data_split_stratify': False, \n",
    "    'fold_strategy': 'stratifiedkfold', \n",
    "    'fold': 5, \n",
    "    'fold_shuffle': True, \n",
    "    'session_id': 123, \n",
    "    'require_explanation':True,\n",
    "    'hyperparameter_search':False,\n",
    "    'plots':['auc', 'ks', 'feature_all', 'lift'], #‘pipeline’, ‘auc’, ‘threshold’, ‘pr’, ‘confusion_matrix’, ‘error’, ‘class_report’, ‘boundary’, ‘rfe’, ‘learning’, \n",
    "    # ‘manifold’, ‘calibration’, ‘vc’, ‘dimension’, ‘feature’, ‘feature_all’, ‘parameter’, ‘lift’, ‘gain’, ‘tree’, ‘ks’\n",
    "    # 'keep_features': [], \n",
    "    # 'ordinal_features': [], \n",
    "    # 'date_features':[], \n",
    "    # 'text_features':[], \n",
    "    # 'text_features_method': 'tf-idf', # “bow” or “tf-idf”\n",
    "    # 'max_encoding_ohe': 25, \n",
    "    # 'encoding_method': None, \n",
    "    # 'rare_to_value': None, \n",
    "    # 'rare_value': 'rare', \n",
    "    # 'polynomial_features': False, \n",
    "    # 'polynomial_degree': 2, \n",
    "    # 'low_variance_threshold': None, \n",
    "    # 'group_features': None, \n",
    "    # 'group_names': None, \n",
    "    # 'drop_groups': False, \n",
    "    # 'bin_numeric_features': None, \n",
    "    # 'outliers_method': 'iforest', \n",
    "    # 'outliers_threshold': 0.05, \n",
    "    # 'fix_imbalance_method': 'SMOTE', \n",
    "    # 'transformation_method': 'yeo-johnson', # ‘yeo-johnson’, ‘quantile’.\n",
    "    # 'normalize_method': 'zscore', \n",
    "    # 'pca': bool = False, \n",
    "    # 'pca_method': str = 'linear', \n",
    "    # 'pca_components': None, \n",
    "    # 'feature_selection': True, \n",
    "    # 'feature_selection_method': 'classic', \n",
    "    # 'feature_selection_estimator': 'lightgbm', \n",
    "    # 'n_features_to_select': 0.2, \n",
    "}\n",
    "with open('params/params.json', 'w') as f:\n",
    "    json.dump(params, f)\n",
    "\n",
    "## Backup for full Pycaret Setup control\n",
    "inference_params = {\n",
    "    'model_filename':'model.pkl',\n",
    "    'training_set':'train.csv',\n",
    "    'testing_set':'test.csv'\n",
    "}\n",
    "with open('params/inference_param.json', 'w') as f:\n",
    "    json.dump(inference_params, f)"
   ]
  }
 ],
 "metadata": {
  "kernelspec": {
   "display_name": "workenv",
   "language": "python",
   "name": "python3"
  },
  "language_info": {
   "codemirror_mode": {
    "name": "ipython",
    "version": 3
   },
   "file_extension": ".py",
   "mimetype": "text/x-python",
   "name": "python",
   "nbconvert_exporter": "python",
   "pygments_lexer": "ipython3",
   "version": "3.9.6"
  },
  "orig_nbformat": 4
 },
 "nbformat": 4,
 "nbformat_minor": 2
}
